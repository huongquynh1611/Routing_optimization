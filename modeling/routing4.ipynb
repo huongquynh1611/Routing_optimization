{
 "cells": [
  {
   "cell_type": "code",
   "execution_count": 188,
   "metadata": {},
   "outputs": [],
   "source": [
    "import cplex\n",
    "from cplex.exceptions import CplexError\n",
    "import sys\n",
    "import pandas as pd\n",
    "import numpy as np\n",
    "import docplex"
   ]
  },
  {
   "cell_type": "code",
   "execution_count": 189,
   "metadata": {},
   "outputs": [],
   "source": [
    "def pprint(constraints: list, names: list):\n",
    "    for c in constraints:\n",
    "        _c = [((\"-\"if _i == -1 else \"\" if _i == 1 else (str(_i if isinstance(_i, int) else round(_i,1)))) + n) for _i, n in zip(c[0], names) if _i != 0]\n",
    "        print(c[3] + \": ([\" + \" \".join(_c) + \"]  \" + c[1] + \"  \" + str(c[2] if isinstance(c[2], int) else round(c[2],1)) + \")\") "
   ]
  },
  {
   "cell_type": "code",
   "execution_count": 190,
   "metadata": {},
   "outputs": [],
   "source": [
    "xls = pd.ExcelFile('logistic.xlsx')\n",
    "\n",
    "vehicles = [\"1\",\"2\",\"3\",\"4\",\"5\"]                        # V\n",
    "customers = [\"1\",\"2\",\"3\",\"4\",\"5\",\"6\",\"7\",\"8\",\"9\"]       # C\n",
    "\n",
    "num_vehicles = 5\n",
    "num_customers = 6\n",
    "locations = [\"O\"] + customers[:num_customers] + [\"X\"]   # C': gồm các customers và Depot suất phát + Depot kết thúc\n",
    "\n",
    "# quy ước: \n",
    "#    + (i,j) là cạnh (edge) thuộc tập E\n",
    "#    + i,j là 2 customer liền kề trên 1 route\n"
   ]
  },
  {
   "cell_type": "code",
   "execution_count": null,
   "metadata": {},
   "outputs": [],
   "source": []
  },
  {
   "cell_type": "code",
   "execution_count": 191,
   "metadata": {},
   "outputs": [
    {
     "name": "stdout",
     "output_type": "stream",
     "text": [
      "245\n",
      "Names  ['xO11', 'xO21', 'xO31', 'xO41', 'xO51', 'xO61', 'xOX1', 'x111', 'x121', 'x131', 'x141', 'x151', 'x161', 'x1X1', 'x211', 'x221', 'x231', 'x241', 'x251', 'x261', 'x2X1', 'x311', 'x321', 'x331', 'x341', 'x351', 'x361', 'x3X1', 'x411', 'x421', 'x431', 'x441', 'x451', 'x461', 'x4X1', 'x511', 'x521', 'x531', 'x541', 'x551', 'x561', 'x5X1', 'x611', 'x621', 'x631', 'x641', 'x651', 'x661', 'x6X1', 'xO12', 'xO22', 'xO32', 'xO42', 'xO52', 'xO62', 'xOX2', 'x112', 'x122', 'x132', 'x142', 'x152', 'x162', 'x1X2', 'x212', 'x222', 'x232', 'x242', 'x252', 'x262', 'x2X2', 'x312', 'x322', 'x332', 'x342', 'x352', 'x362', 'x3X2', 'x412', 'x422', 'x432', 'x442', 'x452', 'x462', 'x4X2', 'x512', 'x522', 'x532', 'x542', 'x552', 'x562', 'x5X2', 'x612', 'x622', 'x632', 'x642', 'x652', 'x662', 'x6X2', 'xO13', 'xO23', 'xO33', 'xO43', 'xO53', 'xO63', 'xOX3', 'x113', 'x123', 'x133', 'x143', 'x153', 'x163', 'x1X3', 'x213', 'x223', 'x233', 'x243', 'x253', 'x263', 'x2X3', 'x313', 'x323', 'x333', 'x343', 'x353', 'x363', 'x3X3', 'x413', 'x423', 'x433', 'x443', 'x453', 'x463', 'x4X3', 'x513', 'x523', 'x533', 'x543', 'x553', 'x563', 'x5X3', 'x613', 'x623', 'x633', 'x643', 'x653', 'x663', 'x6X3', 'xO14', 'xO24', 'xO34', 'xO44', 'xO54', 'xO64', 'xOX4', 'x114', 'x124', 'x134', 'x144', 'x154', 'x164', 'x1X4', 'x214', 'x224', 'x234', 'x244', 'x254', 'x264', 'x2X4', 'x314', 'x324', 'x334', 'x344', 'x354', 'x364', 'x3X4', 'x414', 'x424', 'x434', 'x444', 'x454', 'x464', 'x4X4', 'x514', 'x524', 'x534', 'x544', 'x554', 'x564', 'x5X4', 'x614', 'x624', 'x634', 'x644', 'x654', 'x664', 'x6X4', 'xO15', 'xO25', 'xO35', 'xO45', 'xO55', 'xO65', 'xOX5', 'x115', 'x125', 'x135', 'x145', 'x155', 'x165', 'x1X5', 'x215', 'x225', 'x235', 'x245', 'x255', 'x265', 'x2X5', 'x315', 'x325', 'x335', 'x345', 'x355', 'x365', 'x3X5', 'x415', 'x425', 'x435', 'x445', 'x455', 'x465', 'x4X5', 'x515', 'x525', 'x535', 'x545', 'x555', 'x565', 'x5X5', 'x615', 'x625', 'x635', 'x645', 'x655', 'x665', 'x6X5']\n"
     ]
    }
   ],
   "source": [
    "my_names = [\"x\"+str(i)+str(j) + str(k) for k in vehicles[:num_vehicles] for i in ([\"O\"] + customers[:num_customers]) for j in (customers[:num_customers] + [\"X\"])]\n",
    "num_names = len(my_names)\n",
    "print(num_names)\n",
    "print(\"Names \", my_names)\n",
    "def display(constraints):\n",
    "    pprint(constraints, my_names)"
   ]
  },
  {
   "cell_type": "code",
   "execution_count": 192,
   "metadata": {},
   "outputs": [
    {
     "name": "stdout",
     "output_type": "stream",
     "text": [
      "Object  [18, 30, 28, 27, 8, 18, 0, 0, 23, 10, 4, 18, 22, 18, 23, 0, 32, 29, 18, 10, 30, 10, 32, 0, 2, 20, 31, 28, 4, 29, 2, 0, 19, 28, 27, 18, 18, 20, 19, 0, 5, 8, 22, 10, 31, 28, 5, 0, 18, 18, 30, 28, 27, 8, 18, 0, 0, 23, 10, 4, 18, 22, 18, 23, 0, 32, 29, 18, 10, 30, 10, 32, 0, 2, 20, 31, 28, 4, 29, 2, 0, 19, 28, 27, 18, 18, 20, 19, 0, 5, 8, 22, 10, 31, 28, 5, 0, 18, 18, 30, 28, 27, 8, 18, 0, 0, 23, 10, 4, 18, 22, 18, 23, 0, 32, 29, 18, 10, 30, 10, 32, 0, 2, 20, 31, 28, 4, 29, 2, 0, 19, 28, 27, 18, 18, 20, 19, 0, 5, 8, 22, 10, 31, 28, 5, 0, 18, 18, 30, 28, 27, 8, 18, 0, 0, 23, 10, 4, 18, 22, 18, 23, 0, 32, 29, 18, 10, 30, 10, 32, 0, 2, 20, 31, 28, 4, 29, 2, 0, 19, 28, 27, 18, 18, 20, 19, 0, 5, 8, 22, 10, 31, 28, 5, 0, 18, 18, 30, 28, 27, 8, 18, 0, 0, 23, 10, 4, 18, 22, 18, 23, 0, 32, 29, 18, 10, 30, 10, 32, 0, 2, 20, 31, 28, 4, 29, 2, 0, 19, 28, 27, 18, 18, 20, 19, 0, 5, 8, 22, 10, 31, 28, 5, 0, 18]\n"
     ]
    }
   ],
   "source": [
    "cost_matrix = pd.read_excel(xls, 'Cost Matrix')\n",
    "__v = lambda n: 0 if n == \"O\" or n == \"X\" else int(n)\n",
    "my_obj = [int(cost_matrix.iat[__v(n[1]),__v(n[2]) + 1]) for n in my_names]\n",
    "\n",
    "print(\"Object \", my_obj)"
   ]
  },
  {
   "cell_type": "code",
   "execution_count": 193,
   "metadata": {},
   "outputs": [
    {
     "data": {
      "text/plain": [
       "[100, 70, 145, 90, 50]"
      ]
     },
     "execution_count": 193,
     "metadata": {},
     "output_type": "execute_result"
    }
   ],
   "source": [
    "capacity_matrix   = pd.read_excel(xls, 'Capicity')\n",
    "vehicles_capacity = [capacity_matrix.iat[i,1] for i in range(0, num_vehicles)]\n",
    "vehicles_capacity"
   ]
  },
  {
   "cell_type": "code",
   "execution_count": 194,
   "metadata": {},
   "outputs": [
    {
     "data": {
      "text/plain": [
       "{'1': 32, '2': 45, '3': 16, '4': 15, '5': 22, '6': 50}"
      ]
     },
     "execution_count": 194,
     "metadata": {},
     "output_type": "execute_result"
    }
   ],
   "source": [
    "demand_matrix = pd.read_excel(xls, 'Demand Matrix')\n",
    "demand = {customers[i]: demand_matrix.iat[i,1] for i in range(0, num_customers)}\n",
    "demand"
   ]
  },
  {
   "cell_type": "code",
   "execution_count": 195,
   "metadata": {},
   "outputs": [
    {
     "name": "stdout",
     "output_type": "stream",
     "text": [
      "Lb  [0, 0, 0, 0, 0, 0, 0, 0, 0, 0, 0, 0, 0, 0, 0, 0, 0, 0, 0, 0, 0, 0, 0, 0, 0, 0, 0, 0, 0, 0, 0, 0, 0, 0, 0, 0, 0, 0, 0, 0, 0, 0, 0, 0, 0, 0, 0, 0, 0, 0, 0, 0, 0, 0, 0, 0, 0, 0, 0, 0, 0, 0, 0, 0, 0, 0, 0, 0, 0, 0, 0, 0, 0, 0, 0, 0, 0, 0, 0, 0, 0, 0, 0, 0, 0, 0, 0, 0, 0, 0, 0, 0, 0, 0, 0, 0, 0, 0, 0, 0, 0, 0, 0, 0, 0, 0, 0, 0, 0, 0, 0, 0, 0, 0, 0, 0, 0, 0, 0, 0, 0, 0, 0, 0, 0, 0, 0, 0, 0, 0, 0, 0, 0, 0, 0, 0, 0, 0, 0, 0, 0, 0, 0, 0, 0, 0, 0, 0, 0, 0, 0, 0, 0, 0, 0, 0, 0, 0, 0, 0, 0, 0, 0, 0, 0, 0, 0, 0, 0, 0, 0, 0, 0, 0, 0, 0, 0, 0, 0, 0, 0, 0, 0, 0, 0, 0, 0, 0, 0, 0, 0, 0, 0, 0, 0, 0, 0, 0, 0, 0, 0, 0, 0, 0, 0, 0, 0, 0, 0, 0, 0, 0, 0, 0, 0, 0, 0, 0, 0, 0, 0, 0, 0, 0, 0, 0, 0, 0, 0, 0, 0, 0, 0, 0, 0, 0, 0, 0, 0, 0, 0, 0, 0, 0, 0]\n",
      "Rb  [1, 1, 1, 1, 1, 1, 1, 1, 1, 1, 1, 1, 1, 1, 1, 1, 1, 1, 1, 1, 1, 1, 1, 1, 1, 1, 1, 1, 1, 1, 1, 1, 1, 1, 1, 1, 1, 1, 1, 1, 1, 1, 1, 1, 1, 1, 1, 1, 1, 1, 1, 1, 1, 1, 1, 1, 1, 1, 1, 1, 1, 1, 1, 1, 1, 1, 1, 1, 1, 1, 1, 1, 1, 1, 1, 1, 1, 1, 1, 1, 1, 1, 1, 1, 1, 1, 1, 1, 1, 1, 1, 1, 1, 1, 1, 1, 1, 1, 1, 1, 1, 1, 1, 1, 1, 1, 1, 1, 1, 1, 1, 1, 1, 1, 1, 1, 1, 1, 1, 1, 1, 1, 1, 1, 1, 1, 1, 1, 1, 1, 1, 1, 1, 1, 1, 1, 1, 1, 1, 1, 1, 1, 1, 1, 1, 1, 1, 1, 1, 1, 1, 1, 1, 1, 1, 1, 1, 1, 1, 1, 1, 1, 1, 1, 1, 1, 1, 1, 1, 1, 1, 1, 1, 1, 1, 1, 1, 1, 1, 1, 1, 1, 1, 1, 1, 1, 1, 1, 1, 1, 1, 1, 1, 1, 1, 1, 1, 1, 1, 1, 1, 1, 1, 1, 1, 1, 1, 1, 1, 1, 1, 1, 1, 1, 1, 1, 1, 1, 1, 1, 1, 1, 1, 1, 1, 1, 1, 1, 1, 1, 1, 1, 1, 1, 1, 1, 1, 1, 1, 1, 1, 1, 1, 1, 1]\n"
     ]
    }
   ],
   "source": [
    "lower_bounds = [0]*num_names\n",
    "upper_bounds = [1]*num_names\n",
    "\n",
    "print(\"Lb \", lower_bounds)\n",
    "print(\"Rb \", upper_bounds)"
   ]
  },
  {
   "cell_type": "code",
   "execution_count": 196,
   "metadata": {},
   "outputs": [
    {
     "name": "stdout",
     "output_type": "stream",
     "text": [
      "C21: ([x121 x131 x141 x151 x161 x1X1 x122 x132 x142 x152 x162 x1X2 x123 x133 x143 x153 x163 x1X3 x124 x134 x144 x154 x164 x1X4 x125 x135 x145 x155 x165 x1X5]  E  1)\n",
      "C22: ([x211 x231 x241 x251 x261 x2X1 x212 x232 x242 x252 x262 x2X2 x213 x233 x243 x253 x263 x2X3 x214 x234 x244 x254 x264 x2X4 x215 x235 x245 x255 x265 x2X5]  E  1)\n",
      "C23: ([x311 x321 x341 x351 x361 x3X1 x312 x322 x342 x352 x362 x3X2 x313 x323 x343 x353 x363 x3X3 x314 x324 x344 x354 x364 x3X4 x315 x325 x345 x355 x365 x3X5]  E  1)\n",
      "C24: ([x411 x421 x431 x451 x461 x4X1 x412 x422 x432 x452 x462 x4X2 x413 x423 x433 x453 x463 x4X3 x414 x424 x434 x454 x464 x4X4 x415 x425 x435 x455 x465 x4X5]  E  1)\n",
      "C25: ([x511 x521 x531 x541 x561 x5X1 x512 x522 x532 x542 x562 x5X2 x513 x523 x533 x543 x563 x5X3 x514 x524 x534 x544 x564 x5X4 x515 x525 x535 x545 x565 x5X5]  E  1)\n",
      "C26: ([x611 x621 x631 x641 x651 x6X1 x612 x622 x632 x642 x652 x6X2 x613 x623 x633 x643 x653 x6X3 x614 x624 x634 x644 x654 x6X4 x615 x625 x635 x645 x655 x6X5]  E  1)\n"
     ]
    }
   ],
   "source": [
    "# CONSTRAINTS_2: \n",
    "# # Một cạnh bất kỳ (i->j) chỉ tổn tại trên duy nhất 1 Vehicle. Nhưng i CHỈ LÀ customers, j là locations\n",
    "constraint_2 = []\n",
    "_i = 0\n",
    "for i in customers[:num_customers]:\n",
    "    con_ = [(1 if name[1] != name[2]  and name[1] == i else 0) for name in my_names]\n",
    "    if len([c for c in con_  if c != 0]) > 0:\n",
    "        _i += 1\n",
    "        constraint_2.append((con_,\"E\", 1, \"C2\" + str(_i)))\n",
    "    \n",
    "display(constraint_2)\n"
   ]
  },
  {
   "cell_type": "code",
   "execution_count": 197,
   "metadata": {},
   "outputs": [
    {
     "name": "stdout",
     "output_type": "stream",
     "text": [
      "C31: ([100.0xO11 100.0xO21 100.0xO31 100.0xO41 100.0xO51 100.0xO61 100.0xOX1 -32x121 -32x131 -32x141 -32x151 -32x161 -32x1X1 -45x211 -45x231 -45x241 -45x251 -45x261 -45x2X1 -16x311 -16x321 -16x341 -16x351 -16x361 -16x3X1 -15x411 -15x421 -15x431 -15x451 -15x461 -15x4X1 -22x511 -22x521 -22x531 -22x541 -22x561 -22x5X1 -50x611 -50x621 -50x631 -50x641 -50x651 -50x6X1]  G  0)\n",
      "C32: ([70.0xO12 70.0xO22 70.0xO32 70.0xO42 70.0xO52 70.0xO62 70.0xOX2 -32x122 -32x132 -32x142 -32x152 -32x162 -32x1X2 -45x212 -45x232 -45x242 -45x252 -45x262 -45x2X2 -16x312 -16x322 -16x342 -16x352 -16x362 -16x3X2 -15x412 -15x422 -15x432 -15x452 -15x462 -15x4X2 -22x512 -22x522 -22x532 -22x542 -22x562 -22x5X2 -50x612 -50x622 -50x632 -50x642 -50x652 -50x6X2]  G  0)\n",
      "C33: ([145.0xO13 145.0xO23 145.0xO33 145.0xO43 145.0xO53 145.0xO63 145.0xOX3 -32x123 -32x133 -32x143 -32x153 -32x163 -32x1X3 -45x213 -45x233 -45x243 -45x253 -45x263 -45x2X3 -16x313 -16x323 -16x343 -16x353 -16x363 -16x3X3 -15x413 -15x423 -15x433 -15x453 -15x463 -15x4X3 -22x513 -22x523 -22x533 -22x543 -22x563 -22x5X3 -50x613 -50x623 -50x633 -50x643 -50x653 -50x6X3]  G  0)\n",
      "C34: ([90.0xO14 90.0xO24 90.0xO34 90.0xO44 90.0xO54 90.0xO64 90.0xOX4 -32x124 -32x134 -32x144 -32x154 -32x164 -32x1X4 -45x214 -45x234 -45x244 -45x254 -45x264 -45x2X4 -16x314 -16x324 -16x344 -16x354 -16x364 -16x3X4 -15x414 -15x424 -15x434 -15x454 -15x464 -15x4X4 -22x514 -22x524 -22x534 -22x544 -22x564 -22x5X4 -50x614 -50x624 -50x634 -50x644 -50x654 -50x6X4]  G  0)\n",
      "C35: ([50.0xO15 50.0xO25 50.0xO35 50.0xO45 50.0xO55 50.0xO65 50.0xOX5 -32x125 -32x135 -32x145 -32x155 -32x165 -32x1X5 -45x215 -45x235 -45x245 -45x255 -45x265 -45x2X5 -16x315 -16x325 -16x345 -16x355 -16x365 -16x3X5 -15x415 -15x425 -15x435 -15x455 -15x465 -15x4X5 -22x515 -22x525 -22x535 -22x545 -22x565 -22x5X5 -50x615 -50x625 -50x635 -50x645 -50x655 -50x6X5]  G  0)\n"
     ]
    }
   ],
   "source": [
    "# CONSTRAINTS_3: \n",
    "# # Lượng hàng chở đển Customer của 1 Vehicle phải nhỏ hơn bằng Capacity. Nhưng i CHỈ LÀ customers, j là locations\n",
    "constraint_3 = []\n",
    "val = lambda v, c, n1, n2, n3: 0 if n3 != v else -1*int(demand[n1]) if n1 != \"O\" and n1 != n2 else c if n1 == \"O\" and n2 != \"O\" else 0\n",
    "# val = lambda v, c, n1, n2, n3: 0 if n3 != v else int(demand[n1]) if n1 != \"O\" and n1 != n2 else 0\n",
    "_i = 0\n",
    "for veh, cap in zip(vehicles[0:num_vehicles],vehicles_capacity[0:num_vehicles]): \n",
    "    _i += 1\n",
    "    constraint_3.append(([val(veh, float(cap), name[1], name[2], name[3]) for name in my_names],\"G\", 0, \"C3\" + str(_i)))\n",
    "\n",
    "\n",
    "display(constraint_3)"
   ]
  },
  {
   "cell_type": "code",
   "execution_count": 198,
   "metadata": {},
   "outputs": [
    {
     "name": "stdout",
     "output_type": "stream",
     "text": [
      "C41: ([xO11 xO21 xO31 xO41 xO51 xO61 xOX1]  E  1)\n",
      "C42: ([xO12 xO22 xO32 xO42 xO52 xO62 xOX2]  E  1)\n",
      "C43: ([xO13 xO23 xO33 xO43 xO53 xO63 xOX3]  E  1)\n",
      "C44: ([xO14 xO24 xO34 xO44 xO54 xO64 xOX4]  E  1)\n",
      "C45: ([xO15 xO25 xO35 xO45 xO55 xO65 xOX5]  E  1)\n"
     ]
    }
   ],
   "source": [
    "# CONSTRAINTS_4: \n",
    "# # Với mỗi Vehicle, khi suất phát từ Depot, nó chỉ có thể đến duy nhất 1 Customer\n",
    "constraint_4 = []\n",
    "_i = 0\n",
    "for k in vehicles[0:num_vehicles]:\n",
    "    _i += 1\n",
    "    constraint_4.append(([(1 if (name[1] == \"O\" and name[3] == k) else 0) for name in my_names],\"E\", 1, \"C4\" + str(_i)))\n",
    "    \n",
    "display(constraint_4)"
   ]
  },
  {
   "cell_type": "code",
   "execution_count": 199,
   "metadata": {},
   "outputs": [
    {
     "name": "stdout",
     "output_type": "stream",
     "text": [
      "C51: ([-xO11 x121 x131 x141 x151 x161 x1X1 -x211 -x311 -x411 -x511 -x611]  E  0)\n",
      "C52: ([-xO21 -x121 x211 x231 x241 x251 x261 x2X1 -x321 -x421 -x521 -x621]  E  0)\n",
      "C53: ([-xO31 -x131 -x231 x311 x321 x341 x351 x361 x3X1 -x431 -x531 -x631]  E  0)\n",
      "C54: ([-xO41 -x141 -x241 -x341 x411 x421 x431 x451 x461 x4X1 -x541 -x641]  E  0)\n",
      "C55: ([-xO51 -x151 -x251 -x351 -x451 x511 x521 x531 x541 x561 x5X1 -x651]  E  0)\n",
      "C56: ([-xO61 -x161 -x261 -x361 -x461 -x561 x611 x621 x631 x641 x651 x6X1]  E  0)\n",
      "C57: ([-xO12 x122 x132 x142 x152 x162 x1X2 -x212 -x312 -x412 -x512 -x612]  E  0)\n",
      "C58: ([-xO22 -x122 x212 x232 x242 x252 x262 x2X2 -x322 -x422 -x522 -x622]  E  0)\n",
      "C59: ([-xO32 -x132 -x232 x312 x322 x342 x352 x362 x3X2 -x432 -x532 -x632]  E  0)\n",
      "C510: ([-xO42 -x142 -x242 -x342 x412 x422 x432 x452 x462 x4X2 -x542 -x642]  E  0)\n",
      "C511: ([-xO52 -x152 -x252 -x352 -x452 x512 x522 x532 x542 x562 x5X2 -x652]  E  0)\n",
      "C512: ([-xO62 -x162 -x262 -x362 -x462 -x562 x612 x622 x632 x642 x652 x6X2]  E  0)\n",
      "C513: ([-xO13 x123 x133 x143 x153 x163 x1X3 -x213 -x313 -x413 -x513 -x613]  E  0)\n",
      "C514: ([-xO23 -x123 x213 x233 x243 x253 x263 x2X3 -x323 -x423 -x523 -x623]  E  0)\n",
      "C515: ([-xO33 -x133 -x233 x313 x323 x343 x353 x363 x3X3 -x433 -x533 -x633]  E  0)\n",
      "C516: ([-xO43 -x143 -x243 -x343 x413 x423 x433 x453 x463 x4X3 -x543 -x643]  E  0)\n",
      "C517: ([-xO53 -x153 -x253 -x353 -x453 x513 x523 x533 x543 x563 x5X3 -x653]  E  0)\n",
      "C518: ([-xO63 -x163 -x263 -x363 -x463 -x563 x613 x623 x633 x643 x653 x6X3]  E  0)\n",
      "C519: ([-xO14 x124 x134 x144 x154 x164 x1X4 -x214 -x314 -x414 -x514 -x614]  E  0)\n",
      "C520: ([-xO24 -x124 x214 x234 x244 x254 x264 x2X4 -x324 -x424 -x524 -x624]  E  0)\n",
      "C521: ([-xO34 -x134 -x234 x314 x324 x344 x354 x364 x3X4 -x434 -x534 -x634]  E  0)\n",
      "C522: ([-xO44 -x144 -x244 -x344 x414 x424 x434 x454 x464 x4X4 -x544 -x644]  E  0)\n",
      "C523: ([-xO54 -x154 -x254 -x354 -x454 x514 x524 x534 x544 x564 x5X4 -x654]  E  0)\n",
      "C524: ([-xO64 -x164 -x264 -x364 -x464 -x564 x614 x624 x634 x644 x654 x6X4]  E  0)\n",
      "C525: ([-xO15 x125 x135 x145 x155 x165 x1X5 -x215 -x315 -x415 -x515 -x615]  E  0)\n",
      "C526: ([-xO25 -x125 x215 x235 x245 x255 x265 x2X5 -x325 -x425 -x525 -x625]  E  0)\n",
      "C527: ([-xO35 -x135 -x235 x315 x325 x345 x355 x365 x3X5 -x435 -x535 -x635]  E  0)\n",
      "C528: ([-xO45 -x145 -x245 -x345 x415 x425 x435 x455 x465 x4X5 -x545 -x645]  E  0)\n",
      "C529: ([-xO55 -x155 -x255 -x355 -x455 x515 x525 x535 x545 x565 x5X5 -x655]  E  0)\n",
      "C530: ([-xO65 -x165 -x265 -x365 -x465 -x565 x615 x625 x635 x645 x655 x6X5]  E  0)\n"
     ]
    }
   ],
   "source": [
    "# CONSTRAINTS_5: \n",
    "# # Trên route của Vehicle k có cạnh (i->j) : tổng tất cả cạnh đầu 'ra' của i BẰNG tổng tất cả cạnh đầu 'vào' của j\n",
    "constraint_5 = []\n",
    "_i = 0\n",
    "for k in vehicles[0:num_vehicles]:\n",
    "    for p in customers[:num_customers]: # i\n",
    "        _i += 1\n",
    "        foo = lambda k,p,n: 0 if n[3] != k or n[2] == n[1] else 1 if n[1] == p else -1 if n[2] == p else 0                \n",
    "        constraint_5.append(([foo(k, p, name) for name in my_names],\"E\", 0, \"C5\" + str(_i)))\n",
    "\n",
    "display(constraint_5) "
   ]
  },
  {
   "cell_type": "code",
   "execution_count": 200,
   "metadata": {},
   "outputs": [
    {
     "name": "stdout",
     "output_type": "stream",
     "text": [
      "C61: ([xOX1 x1X1 x2X1 x3X1 x4X1 x5X1 x6X1]  E  1)\n",
      "C62: ([xOX2 x1X2 x2X2 x3X2 x4X2 x5X2 x6X2]  E  1)\n",
      "C63: ([xOX3 x1X3 x2X3 x3X3 x4X3 x5X3 x6X3]  E  1)\n",
      "C64: ([xOX4 x1X4 x2X4 x3X4 x4X4 x5X4 x6X4]  E  1)\n",
      "C65: ([xOX5 x1X5 x2X5 x3X5 x4X5 x5X5 x6X5]  E  1)\n"
     ]
    }
   ],
   "source": [
    "# CONSTRAINTS_6: \n",
    "# # Route của Vehicle k phải luôn trở về Depot (n+1), tức là luôn tồn tại điểm i trên route của k sao cho nó đi đến n+1\n",
    "# # trong đó n+1 là Depot kết thúc\n",
    "constraint_6 = []\n",
    "_i = 0\n",
    "for veh in vehicles[0:num_vehicles]: \n",
    "    _i += 1\n",
    "    constraint_6.append(([(1 if (name[3] == veh and name[2] == \"X\") else 0) for name in my_names],\"E\", 1, \"C6\" + str(_i)))\n",
    "    \n",
    "display(constraint_6)\n"
   ]
  },
  {
   "cell_type": "code",
   "execution_count": 201,
   "metadata": {},
   "outputs": [
    {
     "name": "stdout",
     "output_type": "stream",
     "text": [
      "CX1: ([x111 x221 x331 x441 x551 x661 x112 x222 x332 x442 x552 x662 x113 x223 x333 x443 x553 x663 x114 x224 x334 x444 x554 x664 x115 x225 x335 x445 x555 x665]  E  0)\n"
     ]
    }
   ],
   "source": [
    "# CONSTRAINTS_X: vehicles ko đc đứng tại chỗ\n",
    "constraint_x = []\n",
    "_i = 0\n",
    "\n",
    "_i += 1\n",
    "constraint_x.append(([(1 if name[1] == name[2] else 0) for name in my_names],\"E\", 0, \"CX\" + str(_i)))\n",
    "\n",
    "display(constraint_x)\n"
   ]
  },
  {
   "cell_type": "code",
   "execution_count": 202,
   "metadata": {},
   "outputs": [
    {
     "name": "stdout",
     "output_type": "stream",
     "text": [
      "CX1: ([x121 x211 x122 x212 x123 x213 x124 x214 x125 x215]  L  1)\n",
      "CX2: ([x131 x311 x132 x312 x133 x313 x134 x314 x135 x315]  L  1)\n",
      "CX3: ([x141 x411 x142 x412 x143 x413 x144 x414 x145 x415]  L  1)\n",
      "CX4: ([x151 x511 x152 x512 x153 x513 x154 x514 x155 x515]  L  1)\n",
      "CX5: ([x161 x611 x162 x612 x163 x613 x164 x614 x165 x615]  L  1)\n",
      "CX6: ([x121 x211 x122 x212 x123 x213 x124 x214 x125 x215]  L  1)\n",
      "CX7: ([x231 x321 x232 x322 x233 x323 x234 x324 x235 x325]  L  1)\n",
      "CX8: ([x241 x421 x242 x422 x243 x423 x244 x424 x245 x425]  L  1)\n",
      "CX9: ([x251 x521 x252 x522 x253 x523 x254 x524 x255 x525]  L  1)\n",
      "CX10: ([x261 x621 x262 x622 x263 x623 x264 x624 x265 x625]  L  1)\n",
      "CX11: ([x131 x311 x132 x312 x133 x313 x134 x314 x135 x315]  L  1)\n",
      "CX12: ([x231 x321 x232 x322 x233 x323 x234 x324 x235 x325]  L  1)\n",
      "CX13: ([x341 x431 x342 x432 x343 x433 x344 x434 x345 x435]  L  1)\n",
      "CX14: ([x351 x531 x352 x532 x353 x533 x354 x534 x355 x535]  L  1)\n",
      "CX15: ([x361 x631 x362 x632 x363 x633 x364 x634 x365 x635]  L  1)\n",
      "CX16: ([x141 x411 x142 x412 x143 x413 x144 x414 x145 x415]  L  1)\n",
      "CX17: ([x241 x421 x242 x422 x243 x423 x244 x424 x245 x425]  L  1)\n",
      "CX18: ([x341 x431 x342 x432 x343 x433 x344 x434 x345 x435]  L  1)\n",
      "CX19: ([x451 x541 x452 x542 x453 x543 x454 x544 x455 x545]  L  1)\n",
      "CX20: ([x461 x641 x462 x642 x463 x643 x464 x644 x465 x645]  L  1)\n",
      "CX21: ([x151 x511 x152 x512 x153 x513 x154 x514 x155 x515]  L  1)\n",
      "CX22: ([x251 x521 x252 x522 x253 x523 x254 x524 x255 x525]  L  1)\n",
      "CX23: ([x351 x531 x352 x532 x353 x533 x354 x534 x355 x535]  L  1)\n",
      "CX24: ([x451 x541 x452 x542 x453 x543 x454 x544 x455 x545]  L  1)\n",
      "CX25: ([x561 x651 x562 x652 x563 x653 x564 x654 x565 x655]  L  1)\n",
      "CX26: ([x161 x611 x162 x612 x163 x613 x164 x614 x165 x615]  L  1)\n",
      "CX27: ([x261 x621 x262 x622 x263 x623 x264 x624 x265 x625]  L  1)\n",
      "CX28: ([x361 x631 x362 x632 x363 x633 x364 x634 x365 x635]  L  1)\n",
      "CX29: ([x461 x641 x462 x642 x463 x643 x464 x644 x465 x645]  L  1)\n",
      "CX30: ([x561 x651 x562 x652 x563 x653 x564 x654 x565 x655]  L  1)\n"
     ]
    }
   ],
   "source": [
    "# CONSTRAINTS_Y: vehicles ko đc quay ngược lại\n",
    "constraint_y = []\n",
    "_i = 0\n",
    "\n",
    "for i in customers[:num_customers]:\n",
    "    for j in customers[:num_customers]:\n",
    "        if i != j:\n",
    "            _i += 1\n",
    "            constraint_y.append(([(1 if ((name[1] == i and j == name[2]) or (name[1] == j and i == name[2])) else 0) for name in my_names],\"L\", 1, \"CX\" + str(_i)))\n",
    "\n",
    "display(constraint_y)\n"
   ]
  },
  {
   "cell_type": "code",
   "execution_count": 203,
   "metadata": {},
   "outputs": [],
   "source": [
    "def foo(n : int, a : list, o : list):\n",
    "    temp = {}\n",
    "    tempa = []\n",
    "    for ai in a:\n",
    "        _i =  np.prod([ord(c) + 99 for c in ai])\n",
    "        if _i not in temp:            \n",
    "            temp[_i] = ai\n",
    "            tempa.append(ai)\n",
    "            \n",
    "    a = tempa\n",
    "    arr = []\n",
    "    if n > 1:\n",
    "        for ai in a:\n",
    "            for oi in o:\n",
    "                if oi not in ai:\n",
    "                    arr.append(ai + oi)\n",
    "        return foo(n-1, arr, o)\n",
    "    else:\n",
    "        return a\n",
    "\n",
    "def get_path(n: int, a: list) -> list:\n",
    "    return foo(n,a,a)\n"
   ]
  },
  {
   "cell_type": "code",
   "execution_count": 204,
   "metadata": {},
   "outputs": [
    {
     "name": "stdout",
     "output_type": "stream",
     "text": [
      "CZ1: ([x121 x131 x211 x231 x311 x321 x122 x132 x212 x232 x312 x322 x123 x133 x213 x233 x313 x323 x124 x134 x214 x234 x314 x324 x125 x135 x215 x235 x315 x325]  L  2)\n",
      "CZ2: ([x121 x141 x211 x241 x411 x421 x122 x142 x212 x242 x412 x422 x123 x143 x213 x243 x413 x423 x124 x144 x214 x244 x414 x424 x125 x145 x215 x245 x415 x425]  L  2)\n",
      "CZ3: ([x121 x151 x211 x251 x511 x521 x122 x152 x212 x252 x512 x522 x123 x153 x213 x253 x513 x523 x124 x154 x214 x254 x514 x524 x125 x155 x215 x255 x515 x525]  L  2)\n",
      "CZ4: ([x121 x161 x211 x261 x611 x621 x122 x162 x212 x262 x612 x622 x123 x163 x213 x263 x613 x623 x124 x164 x214 x264 x614 x624 x125 x165 x215 x265 x615 x625]  L  2)\n",
      "CZ5: ([x131 x141 x311 x341 x411 x431 x132 x142 x312 x342 x412 x432 x133 x143 x313 x343 x413 x433 x134 x144 x314 x344 x414 x434 x135 x145 x315 x345 x415 x435]  L  2)\n",
      "CZ6: ([x131 x151 x311 x351 x511 x531 x132 x152 x312 x352 x512 x532 x133 x153 x313 x353 x513 x533 x134 x154 x314 x354 x514 x534 x135 x155 x315 x355 x515 x535]  L  2)\n",
      "CZ7: ([x131 x161 x311 x361 x611 x631 x132 x162 x312 x362 x612 x632 x133 x163 x313 x363 x613 x633 x134 x164 x314 x364 x614 x634 x135 x165 x315 x365 x615 x635]  L  2)\n",
      "CZ8: ([x141 x151 x411 x451 x511 x541 x142 x152 x412 x452 x512 x542 x143 x153 x413 x453 x513 x543 x144 x154 x414 x454 x514 x544 x145 x155 x415 x455 x515 x545]  L  2)\n",
      "CZ9: ([x141 x161 x411 x461 x611 x641 x142 x162 x412 x462 x612 x642 x143 x163 x413 x463 x613 x643 x144 x164 x414 x464 x614 x644 x145 x165 x415 x465 x615 x645]  L  2)\n",
      "CZ10: ([x151 x161 x511 x561 x611 x651 x152 x162 x512 x562 x612 x652 x153 x163 x513 x563 x613 x653 x154 x164 x514 x564 x614 x654 x155 x165 x515 x565 x615 x655]  L  2)\n",
      "CZ11: ([x231 x241 x321 x341 x421 x431 x232 x242 x322 x342 x422 x432 x233 x243 x323 x343 x423 x433 x234 x244 x324 x344 x424 x434 x235 x245 x325 x345 x425 x435]  L  2)\n",
      "CZ12: ([x231 x251 x321 x351 x521 x531 x232 x252 x322 x352 x522 x532 x233 x253 x323 x353 x523 x533 x234 x254 x324 x354 x524 x534 x235 x255 x325 x355 x525 x535]  L  2)\n",
      "CZ13: ([x231 x261 x321 x361 x621 x631 x232 x262 x322 x362 x622 x632 x233 x263 x323 x363 x623 x633 x234 x264 x324 x364 x624 x634 x235 x265 x325 x365 x625 x635]  L  2)\n",
      "CZ14: ([x241 x251 x421 x451 x521 x541 x242 x252 x422 x452 x522 x542 x243 x253 x423 x453 x523 x543 x244 x254 x424 x454 x524 x544 x245 x255 x425 x455 x525 x545]  L  2)\n",
      "CZ15: ([x241 x261 x421 x461 x621 x641 x242 x262 x422 x462 x622 x642 x243 x263 x423 x463 x623 x643 x244 x264 x424 x464 x624 x644 x245 x265 x425 x465 x625 x645]  L  2)\n",
      "CZ16: ([x251 x261 x521 x561 x621 x651 x252 x262 x522 x562 x622 x652 x253 x263 x523 x563 x623 x653 x254 x264 x524 x564 x624 x654 x255 x265 x525 x565 x625 x655]  L  2)\n",
      "CZ17: ([x341 x351 x431 x451 x531 x541 x342 x352 x432 x452 x532 x542 x343 x353 x433 x453 x533 x543 x344 x354 x434 x454 x534 x544 x345 x355 x435 x455 x535 x545]  L  2)\n",
      "CZ18: ([x341 x361 x431 x461 x631 x641 x342 x362 x432 x462 x632 x642 x343 x363 x433 x463 x633 x643 x344 x364 x434 x464 x634 x644 x345 x365 x435 x465 x635 x645]  L  2)\n",
      "CZ19: ([x351 x361 x531 x561 x631 x651 x352 x362 x532 x562 x632 x652 x353 x363 x533 x563 x633 x653 x354 x364 x534 x564 x634 x654 x355 x365 x535 x565 x635 x655]  L  2)\n",
      "CZ20: ([x451 x461 x541 x561 x641 x651 x452 x462 x542 x562 x642 x652 x453 x463 x543 x563 x643 x653 x454 x464 x544 x564 x644 x654 x455 x465 x545 x565 x645 x655]  L  2)\n",
      "CZ21: ([x121 x131 x141 x211 x231 x241 x311 x321 x341 x411 x421 x431 x122 x132 x142 x212 x232 x242 x312 x322 x342 x412 x422 x432 x123 x133 x143 x213 x233 x243 x313 x323 x343 x413 x423 x433 x124 x134 x144 x214 x234 x244 x314 x324 x344 x414 x424 x434 x125 x135 x145 x215 x235 x245 x315 x325 x345 x415 x425 x435]  L  3)\n",
      "CZ22: ([x121 x131 x151 x211 x231 x251 x311 x321 x351 x511 x521 x531 x122 x132 x152 x212 x232 x252 x312 x322 x352 x512 x522 x532 x123 x133 x153 x213 x233 x253 x313 x323 x353 x513 x523 x533 x124 x134 x154 x214 x234 x254 x314 x324 x354 x514 x524 x534 x125 x135 x155 x215 x235 x255 x315 x325 x355 x515 x525 x535]  L  3)\n",
      "CZ23: ([x121 x131 x161 x211 x231 x261 x311 x321 x361 x611 x621 x631 x122 x132 x162 x212 x232 x262 x312 x322 x362 x612 x622 x632 x123 x133 x163 x213 x233 x263 x313 x323 x363 x613 x623 x633 x124 x134 x164 x214 x234 x264 x314 x324 x364 x614 x624 x634 x125 x135 x165 x215 x235 x265 x315 x325 x365 x615 x625 x635]  L  3)\n",
      "CZ24: ([x121 x141 x151 x211 x241 x251 x411 x421 x451 x511 x521 x541 x122 x142 x152 x212 x242 x252 x412 x422 x452 x512 x522 x542 x123 x143 x153 x213 x243 x253 x413 x423 x453 x513 x523 x543 x124 x144 x154 x214 x244 x254 x414 x424 x454 x514 x524 x544 x125 x145 x155 x215 x245 x255 x415 x425 x455 x515 x525 x545]  L  3)\n",
      "CZ25: ([x121 x141 x161 x211 x241 x261 x411 x421 x461 x611 x621 x641 x122 x142 x162 x212 x242 x262 x412 x422 x462 x612 x622 x642 x123 x143 x163 x213 x243 x263 x413 x423 x463 x613 x623 x643 x124 x144 x164 x214 x244 x264 x414 x424 x464 x614 x624 x644 x125 x145 x165 x215 x245 x265 x415 x425 x465 x615 x625 x645]  L  3)\n",
      "CZ26: ([x121 x151 x161 x211 x251 x261 x511 x521 x561 x611 x621 x651 x122 x152 x162 x212 x252 x262 x512 x522 x562 x612 x622 x652 x123 x153 x163 x213 x253 x263 x513 x523 x563 x613 x623 x653 x124 x154 x164 x214 x254 x264 x514 x524 x564 x614 x624 x654 x125 x155 x165 x215 x255 x265 x515 x525 x565 x615 x625 x655]  L  3)\n",
      "CZ27: ([x131 x141 x151 x311 x341 x351 x411 x431 x451 x511 x531 x541 x132 x142 x152 x312 x342 x352 x412 x432 x452 x512 x532 x542 x133 x143 x153 x313 x343 x353 x413 x433 x453 x513 x533 x543 x134 x144 x154 x314 x344 x354 x414 x434 x454 x514 x534 x544 x135 x145 x155 x315 x345 x355 x415 x435 x455 x515 x535 x545]  L  3)\n",
      "CZ28: ([x131 x141 x161 x311 x341 x361 x411 x431 x461 x611 x631 x641 x132 x142 x162 x312 x342 x362 x412 x432 x462 x612 x632 x642 x133 x143 x163 x313 x343 x363 x413 x433 x463 x613 x633 x643 x134 x144 x164 x314 x344 x364 x414 x434 x464 x614 x634 x644 x135 x145 x165 x315 x345 x365 x415 x435 x465 x615 x635 x645]  L  3)\n",
      "CZ29: ([x131 x151 x161 x311 x351 x361 x511 x531 x561 x611 x631 x651 x132 x152 x162 x312 x352 x362 x512 x532 x562 x612 x632 x652 x133 x153 x163 x313 x353 x363 x513 x533 x563 x613 x633 x653 x134 x154 x164 x314 x354 x364 x514 x534 x564 x614 x634 x654 x135 x155 x165 x315 x355 x365 x515 x535 x565 x615 x635 x655]  L  3)\n",
      "CZ30: ([x141 x151 x161 x411 x451 x461 x511 x541 x561 x611 x641 x651 x142 x152 x162 x412 x452 x462 x512 x542 x562 x612 x642 x652 x143 x153 x163 x413 x453 x463 x513 x543 x563 x613 x643 x653 x144 x154 x164 x414 x454 x464 x514 x544 x564 x614 x644 x654 x145 x155 x165 x415 x455 x465 x515 x545 x565 x615 x645 x655]  L  3)\n",
      "CZ31: ([x231 x241 x251 x321 x341 x351 x421 x431 x451 x521 x531 x541 x232 x242 x252 x322 x342 x352 x422 x432 x452 x522 x532 x542 x233 x243 x253 x323 x343 x353 x423 x433 x453 x523 x533 x543 x234 x244 x254 x324 x344 x354 x424 x434 x454 x524 x534 x544 x235 x245 x255 x325 x345 x355 x425 x435 x455 x525 x535 x545]  L  3)\n",
      "CZ32: ([x231 x241 x261 x321 x341 x361 x421 x431 x461 x621 x631 x641 x232 x242 x262 x322 x342 x362 x422 x432 x462 x622 x632 x642 x233 x243 x263 x323 x343 x363 x423 x433 x463 x623 x633 x643 x234 x244 x264 x324 x344 x364 x424 x434 x464 x624 x634 x644 x235 x245 x265 x325 x345 x365 x425 x435 x465 x625 x635 x645]  L  3)\n",
      "CZ33: ([x231 x251 x261 x321 x351 x361 x521 x531 x561 x621 x631 x651 x232 x252 x262 x322 x352 x362 x522 x532 x562 x622 x632 x652 x233 x253 x263 x323 x353 x363 x523 x533 x563 x623 x633 x653 x234 x254 x264 x324 x354 x364 x524 x534 x564 x624 x634 x654 x235 x255 x265 x325 x355 x365 x525 x535 x565 x625 x635 x655]  L  3)\n",
      "CZ34: ([x241 x251 x261 x421 x451 x461 x521 x541 x561 x621 x641 x651 x242 x252 x262 x422 x452 x462 x522 x542 x562 x622 x642 x652 x243 x253 x263 x423 x453 x463 x523 x543 x563 x623 x643 x653 x244 x254 x264 x424 x454 x464 x524 x544 x564 x624 x644 x654 x245 x255 x265 x425 x455 x465 x525 x545 x565 x625 x645 x655]  L  3)\n",
      "CZ35: ([x341 x351 x361 x431 x451 x461 x531 x541 x561 x631 x641 x651 x342 x352 x362 x432 x452 x462 x532 x542 x562 x632 x642 x652 x343 x353 x363 x433 x453 x463 x533 x543 x563 x633 x643 x653 x344 x354 x364 x434 x454 x464 x534 x544 x564 x634 x644 x654 x345 x355 x365 x435 x455 x465 x535 x545 x565 x635 x645 x655]  L  3)\n",
      "CZ36: ([x121 x131 x141 x151 x211 x231 x241 x251 x311 x321 x341 x351 x411 x421 x431 x451 x511 x521 x531 x541 x122 x132 x142 x152 x212 x232 x242 x252 x312 x322 x342 x352 x412 x422 x432 x452 x512 x522 x532 x542 x123 x133 x143 x153 x213 x233 x243 x253 x313 x323 x343 x353 x413 x423 x433 x453 x513 x523 x533 x543 x124 x134 x144 x154 x214 x234 x244 x254 x314 x324 x344 x354 x414 x424 x434 x454 x514 x524 x534 x544 x125 x135 x145 x155 x215 x235 x245 x255 x315 x325 x345 x355 x415 x425 x435 x455 x515 x525 x535 x545]  L  4)\n",
      "CZ37: ([x121 x131 x141 x161 x211 x231 x241 x261 x311 x321 x341 x361 x411 x421 x431 x461 x611 x621 x631 x641 x122 x132 x142 x162 x212 x232 x242 x262 x312 x322 x342 x362 x412 x422 x432 x462 x612 x622 x632 x642 x123 x133 x143 x163 x213 x233 x243 x263 x313 x323 x343 x363 x413 x423 x433 x463 x613 x623 x633 x643 x124 x134 x144 x164 x214 x234 x244 x264 x314 x324 x344 x364 x414 x424 x434 x464 x614 x624 x634 x644 x125 x135 x145 x165 x215 x235 x245 x265 x315 x325 x345 x365 x415 x425 x435 x465 x615 x625 x635 x645]  L  4)\n",
      "CZ38: ([x121 x131 x151 x161 x211 x231 x251 x261 x311 x321 x351 x361 x511 x521 x531 x561 x611 x621 x631 x651 x122 x132 x152 x162 x212 x232 x252 x262 x312 x322 x352 x362 x512 x522 x532 x562 x612 x622 x632 x652 x123 x133 x153 x163 x213 x233 x253 x263 x313 x323 x353 x363 x513 x523 x533 x563 x613 x623 x633 x653 x124 x134 x154 x164 x214 x234 x254 x264 x314 x324 x354 x364 x514 x524 x534 x564 x614 x624 x634 x654 x125 x135 x155 x165 x215 x235 x255 x265 x315 x325 x355 x365 x515 x525 x535 x565 x615 x625 x635 x655]  L  4)\n",
      "CZ39: ([x121 x141 x151 x161 x211 x241 x251 x261 x411 x421 x451 x461 x511 x521 x541 x561 x611 x621 x641 x651 x122 x142 x152 x162 x212 x242 x252 x262 x412 x422 x452 x462 x512 x522 x542 x562 x612 x622 x642 x652 x123 x143 x153 x163 x213 x243 x253 x263 x413 x423 x453 x463 x513 x523 x543 x563 x613 x623 x643 x653 x124 x144 x154 x164 x214 x244 x254 x264 x414 x424 x454 x464 x514 x524 x544 x564 x614 x624 x644 x654 x125 x145 x155 x165 x215 x245 x255 x265 x415 x425 x455 x465 x515 x525 x545 x565 x615 x625 x645 x655]  L  4)\n",
      "CZ40: ([x131 x141 x151 x161 x311 x341 x351 x361 x411 x431 x451 x461 x511 x531 x541 x561 x611 x631 x641 x651 x132 x142 x152 x162 x312 x342 x352 x362 x412 x432 x452 x462 x512 x532 x542 x562 x612 x632 x642 x652 x133 x143 x153 x163 x313 x343 x353 x363 x413 x433 x453 x463 x513 x533 x543 x563 x613 x633 x643 x653 x134 x144 x154 x164 x314 x344 x354 x364 x414 x434 x454 x464 x514 x534 x544 x564 x614 x634 x644 x654 x135 x145 x155 x165 x315 x345 x355 x365 x415 x435 x455 x465 x515 x535 x545 x565 x615 x635 x645 x655]  L  4)\n",
      "CZ41: ([x231 x241 x251 x261 x321 x341 x351 x361 x421 x431 x451 x461 x521 x531 x541 x561 x621 x631 x641 x651 x232 x242 x252 x262 x322 x342 x352 x362 x422 x432 x452 x462 x522 x532 x542 x562 x622 x632 x642 x652 x233 x243 x253 x263 x323 x343 x353 x363 x423 x433 x453 x463 x523 x533 x543 x563 x623 x633 x643 x653 x234 x244 x254 x264 x324 x344 x354 x364 x424 x434 x454 x464 x524 x534 x544 x564 x624 x634 x644 x654 x235 x245 x255 x265 x325 x345 x355 x365 x425 x435 x455 x465 x525 x535 x545 x565 x625 x635 x645 x655]  L  4)\n",
      "CZ42: ([x121 x131 x141 x151 x161 x211 x231 x241 x251 x261 x311 x321 x341 x351 x361 x411 x421 x431 x451 x461 x511 x521 x531 x541 x561 x611 x621 x631 x641 x651 x122 x132 x142 x152 x162 x212 x232 x242 x252 x262 x312 x322 x342 x352 x362 x412 x422 x432 x452 x462 x512 x522 x532 x542 x562 x612 x622 x632 x642 x652 x123 x133 x143 x153 x163 x213 x233 x243 x253 x263 x313 x323 x343 x353 x363 x413 x423 x433 x453 x463 x513 x523 x533 x543 x563 x613 x623 x633 x643 x653 x124 x134 x144 x154 x164 x214 x234 x244 x254 x264 x314 x324 x344 x354 x364 x414 x424 x434 x454 x464 x514 x524 x534 x544 x564 x614 x624 x634 x644 x654 x125 x135 x145 x155 x165 x215 x235 x245 x255 x265 x315 x325 x345 x355 x365 x415 x425 x435 x455 x465 x515 x525 x535 x545 x565 x615 x625 x635 x645 x655]  L  5)\n"
     ]
    }
   ],
   "source": [
    "# CONSTRAINT_Z \n",
    "constraint_z = []\n",
    "_i = 0\n",
    "\n",
    "for r in range(3,num_customers + 1):\n",
    "    for p in get_path(r, customers[:num_customers]):\n",
    "#         p = \"134\"\n",
    "#         r = 3\n",
    "        _i += 1\n",
    "        constraint_z.append(([1 if name[1] in p and name[2] in p and name[1] != name[2] else 0 for name in my_names], \"L\", r-1, \"CZ\" + str(_i)))\n",
    "\n",
    "display(constraint_z)\n"
   ]
  },
  {
   "cell_type": "code",
   "execution_count": 205,
   "metadata": {
    "scrolled": false
   },
   "outputs": [],
   "source": [
    "# Merge segment constraints\n",
    "constraints_group = []\n",
    "constraints_group += constraint_2 \n",
    "constraints_group += constraint_3 \n",
    "constraints_group += constraint_4 \n",
    "constraints_group += constraint_5 \n",
    "constraints_group += constraint_6\n",
    "constraints_group += constraint_x\n",
    "constraints_group += constraint_y\n",
    "constraints_group += constraint_z\n",
    "\n",
    "\n",
    "\n",
    "# Convert for cplex\n",
    "constraints_ = []\n",
    "constraint_senses = []\n",
    "rhs = []\n",
    "constraint_names = []\n",
    "for i in constraints_group:\n",
    "    constraints_.append([full_names if i[3][:2] == \"CT\" else my_names, i[0]])\n",
    "    constraint_senses.append(i[1])\n",
    "    rhs.append(i[2])\n",
    "    constraint_names.append(i[3])\n",
    "    \n"
   ]
  },
  {
   "cell_type": "code",
   "execution_count": 206,
   "metadata": {},
   "outputs": [],
   "source": [
    "# TIME CONSTRAINTS\n",
    "time_service = pd.read_excel(xls, 'Time Service')['Service']\n",
    "time_matrix = pd.read_excel(xls, 'Time Matrix')\n",
    "time_start = pd.read_excel(xls, 'Time Window')['Time Start']\n",
    "time_end = pd.read_excel(xls, 'Time Window')['Time End']"
   ]
  },
  {
   "cell_type": "code",
   "execution_count": 207,
   "metadata": {},
   "outputs": [
    {
     "name": "stdout",
     "output_type": "stream",
     "text": [
      "[[0.  3.  4.5 2.  6.2 3.1 2.2]\n",
      " [3.  0.  2.7 3.2 4.  1.6 2.6]\n",
      " [4.5 2.7 0.  2.1 4.  2.7 3.6]\n",
      " [2.  3.2 2.1 0.  1.6 2.4 1.1]\n",
      " [6.2 4.  4.  1.6 0.  2.6 1.7]\n",
      " [3.1 1.6 2.7 2.4 2.6 0.  2.7]\n",
      " [2.2 2.6 3.6 1.1 1.7 2.7 0. ]\n",
      " [1.9 3.5 1.6 4.6 3.2 1.3 1.2]]\n"
     ]
    },
    {
     "data": {
      "text/plain": [
       "{'OO': 0.0,\n",
       " 'O1': 3.0,\n",
       " 'O2': 4.5,\n",
       " 'O3': 2.0,\n",
       " 'O4': 6.2,\n",
       " 'O5': 3.1,\n",
       " 'O6': 2.2,\n",
       " '1O': 3.0,\n",
       " '11': 0.0,\n",
       " '12': 2.7,\n",
       " '13': 3.2,\n",
       " '14': 4.0,\n",
       " '15': 1.6,\n",
       " '16': 2.6,\n",
       " '2O': 4.5,\n",
       " '21': 2.7,\n",
       " '22': 0.0,\n",
       " '23': 2.1,\n",
       " '24': 4.0,\n",
       " '25': 2.7,\n",
       " '26': 3.6,\n",
       " '3O': 2.0,\n",
       " '31': 3.2,\n",
       " '32': 2.1,\n",
       " '33': 0.0,\n",
       " '34': 1.6,\n",
       " '35': 2.4,\n",
       " '36': 1.1,\n",
       " '4O': 6.2,\n",
       " '41': 4.0,\n",
       " '42': 4.0,\n",
       " '43': 1.6,\n",
       " '44': 0.0,\n",
       " '45': 2.6,\n",
       " '46': 1.7,\n",
       " '5O': 3.1,\n",
       " '51': 1.6,\n",
       " '52': 2.7,\n",
       " '53': 2.4,\n",
       " '54': 2.6,\n",
       " '55': 0.0,\n",
       " '56': 2.7,\n",
       " '6O': 2.2,\n",
       " '61': 2.6,\n",
       " '62': 3.6,\n",
       " '63': 1.1,\n",
       " '64': 1.7,\n",
       " '65': 2.7,\n",
       " '66': 0.0}"
      ]
     },
     "execution_count": 207,
     "metadata": {},
     "output_type": "execute_result"
    }
   ],
   "source": [
    "# thời gian đi từ cus i đến j\n",
    "timesdf = time_matrix.iloc[0:num_customers + 2,1:num_customers + 2].values\n",
    "\n",
    "times = {}\n",
    "for _i, i in enumerate([\"O\"] + customers[:num_customers]):\n",
    "    for _j, j in enumerate([\"O\"] + customers[:num_customers]):\n",
    "        key = i+j\n",
    "        val = timesdf[_i][_j]\n",
    "        if not key in times:\n",
    "            times[key]=val\n",
    "print(timesdf)    \n",
    "times"
   ]
  },
  {
   "cell_type": "code",
   "execution_count": 208,
   "metadata": {},
   "outputs": [
    {
     "name": "stdout",
     "output_type": "stream",
     "text": [
      "0    0.0\n",
      "1    2.0\n",
      "2    1.5\n",
      "3    2.7\n",
      "4    0.4\n",
      "5    1.0\n",
      "6    0.8\n",
      "7    1.3\n",
      "8    2.2\n",
      "9    2.4\n",
      "Name: Service, dtype: float64\n"
     ]
    },
    {
     "data": {
      "text/plain": [
       "{'O': 0.0, '1': 2.0, '2': 1.5, '3': 2.7, '4': 0.4, '5': 1.0, '6': 0.8}"
      ]
     },
     "execution_count": 208,
     "metadata": {},
     "output_type": "execute_result"
    }
   ],
   "source": [
    "# thời gian phục vụ mỗi cus\n",
    "print(time_service)\n",
    "time_service = {loc: float(time_service.iat[i]) for i, loc in zip(range(0,num_customers + 2), [\"O\"] + customers[:num_customers])}\n",
    "time_service"
   ]
  },
  {
   "cell_type": "code",
   "execution_count": 209,
   "metadata": {},
   "outputs": [
    {
     "name": "stdout",
     "output_type": "stream",
     "text": [
      "{'O': 0.0, '1': 2.0, '2': 0.0, '3': 3.5, '4': 0.0, '5': 0.0, '6': 0.0}\n",
      "{'O': 5.0, '1': 13.0, '2': 15.0, '3': 17.0, '4': 11.5, '5': 15.0, '6': 7.0}\n"
     ]
    }
   ],
   "source": [
    "# Time window \n",
    "time_start= {loc: float(time_start.iat[i]) for i, loc in zip(range(0,num_customers + 1), [\"O\"] + customers[:num_customers])}\n",
    "time_end = {loc: float(time_end.iat[i]) for i, loc in zip(range(0,num_customers + 1), [\"O\"] + customers[:num_customers])} \n",
    "\n",
    "print(time_start)\n",
    "print(time_end)\n"
   ]
  },
  {
   "cell_type": "code",
   "execution_count": 214,
   "metadata": {},
   "outputs": [
    {
     "name": "stdout",
     "output_type": "stream",
     "text": [
      "['sO1', 'sO2', 'sO3', 'sO4', 'sO5', 's11', 's12', 's13', 's14', 's15', 's21', 's22', 's23', 's24', 's25', 's31', 's32', 's33', 's34', 's35', 's41', 's42', 's43', 's44', 's45', 's51', 's52', 's53', 's54', 's55', 's61', 's62', 's63', 's64', 's65', 'sX1', 'sX2', 'sX3', 'sX4', 'sX5']\n"
     ]
    }
   ],
   "source": [
    "# SET  TIME NAMES\n",
    "# TIME\n",
    "time_names = [\"s\"+str(i) + str(k) for i in ([\"O\"] + customers[:num_customers] + [\"X\"]) for k in vehicles[:num_vehicles]]\n",
    "def displayt(constraints):\n",
    "    pprint(constraints, time_names)\n",
    "print(time_names)"
   ]
  },
  {
   "cell_type": "code",
   "execution_count": null,
   "metadata": {},
   "outputs": [],
   "source": [
    "# CONSTRAINTS TIME 1\n"
   ]
  },
  {
   "cell_type": "code",
   "execution_count": 210,
   "metadata": {
    "scrolled": true
   },
   "outputs": [
    {
     "name": "stdout",
     "output_type": "stream",
     "text": [
      "245 245\n",
      "['xO11', 'xO21', 'xO31', 'xO41', 'xO51', 'xO61', 'xOX1', 'x111', 'x121', 'x131', 'x141', 'x151', 'x161', 'x1X1', 'x211', 'x221', 'x231', 'x241', 'x251', 'x261', 'x2X1', 'x311', 'x321', 'x331', 'x341', 'x351', 'x361', 'x3X1', 'x411', 'x421', 'x431', 'x441', 'x451', 'x461', 'x4X1', 'x511', 'x521', 'x531', 'x541', 'x551', 'x561', 'x5X1', 'x611', 'x621', 'x631', 'x641', 'x651', 'x661', 'x6X1', 'xO12', 'xO22', 'xO32', 'xO42', 'xO52', 'xO62', 'xOX2', 'x112', 'x122', 'x132', 'x142', 'x152', 'x162', 'x1X2', 'x212', 'x222', 'x232', 'x242', 'x252', 'x262', 'x2X2', 'x312', 'x322', 'x332', 'x342', 'x352', 'x362', 'x3X2', 'x412', 'x422', 'x432', 'x442', 'x452', 'x462', 'x4X2', 'x512', 'x522', 'x532', 'x542', 'x552', 'x562', 'x5X2', 'x612', 'x622', 'x632', 'x642', 'x652', 'x662', 'x6X2', 'xO13', 'xO23', 'xO33', 'xO43', 'xO53', 'xO63', 'xOX3', 'x113', 'x123', 'x133', 'x143', 'x153', 'x163', 'x1X3', 'x213', 'x223', 'x233', 'x243', 'x253', 'x263', 'x2X3', 'x313', 'x323', 'x333', 'x343', 'x353', 'x363', 'x3X3', 'x413', 'x423', 'x433', 'x443', 'x453', 'x463', 'x4X3', 'x513', 'x523', 'x533', 'x543', 'x553', 'x563', 'x5X3', 'x613', 'x623', 'x633', 'x643', 'x653', 'x663', 'x6X3', 'xO14', 'xO24', 'xO34', 'xO44', 'xO54', 'xO64', 'xOX4', 'x114', 'x124', 'x134', 'x144', 'x154', 'x164', 'x1X4', 'x214', 'x224', 'x234', 'x244', 'x254', 'x264', 'x2X4', 'x314', 'x324', 'x334', 'x344', 'x354', 'x364', 'x3X4', 'x414', 'x424', 'x434', 'x444', 'x454', 'x464', 'x4X4', 'x514', 'x524', 'x534', 'x544', 'x554', 'x564', 'x5X4', 'x614', 'x624', 'x634', 'x644', 'x654', 'x664', 'x6X4', 'xO15', 'xO25', 'xO35', 'xO45', 'xO55', 'xO65', 'xOX5', 'x115', 'x125', 'x135', 'x145', 'x155', 'x165', 'x1X5', 'x215', 'x225', 'x235', 'x245', 'x255', 'x265', 'x2X5', 'x315', 'x325', 'x335', 'x345', 'x355', 'x365', 'x3X5', 'x415', 'x425', 'x435', 'x445', 'x455', 'x465', 'x4X5', 'x515', 'x525', 'x535', 'x545', 'x555', 'x565', 'x5X5', 'x615', 'x625', 'x635', 'x645', 'x655', 'x665', 'x6X5']\n",
      "['B', 'B', 'B', 'B', 'B', 'B', 'B', 'B', 'B', 'B', 'B', 'B', 'B', 'B', 'B', 'B', 'B', 'B', 'B', 'B', 'B', 'B', 'B', 'B', 'B', 'B', 'B', 'B', 'B', 'B', 'B', 'B', 'B', 'B', 'B', 'B', 'B', 'B', 'B', 'B', 'B', 'B', 'B', 'B', 'B', 'B', 'B', 'B', 'B', 'B', 'B', 'B', 'B', 'B', 'B', 'B', 'B', 'B', 'B', 'B', 'B', 'B', 'B', 'B', 'B', 'B', 'B', 'B', 'B', 'B', 'B', 'B', 'B', 'B', 'B', 'B', 'B', 'B', 'B', 'B', 'B', 'B', 'B', 'B', 'B', 'B', 'B', 'B', 'B', 'B', 'B', 'B', 'B', 'B', 'B', 'B', 'B', 'B', 'B', 'B', 'B', 'B', 'B', 'B', 'B', 'B', 'B', 'B', 'B', 'B', 'B', 'B', 'B', 'B', 'B', 'B', 'B', 'B', 'B', 'B', 'B', 'B', 'B', 'B', 'B', 'B', 'B', 'B', 'B', 'B', 'B', 'B', 'B', 'B', 'B', 'B', 'B', 'B', 'B', 'B', 'B', 'B', 'B', 'B', 'B', 'B', 'B', 'B', 'B', 'B', 'B', 'B', 'B', 'B', 'B', 'B', 'B', 'B', 'B', 'B', 'B', 'B', 'B', 'B', 'B', 'B', 'B', 'B', 'B', 'B', 'B', 'B', 'B', 'B', 'B', 'B', 'B', 'B', 'B', 'B', 'B', 'B', 'B', 'B', 'B', 'B', 'B', 'B', 'B', 'B', 'B', 'B', 'B', 'B', 'B', 'B', 'B', 'B', 'B', 'B', 'B', 'B', 'B', 'B', 'B', 'B', 'B', 'B', 'B', 'B', 'B', 'B', 'B', 'B', 'B', 'B', 'B', 'B', 'B', 'B', 'B', 'B', 'B', 'B', 'B', 'B', 'B', 'B', 'B', 'B', 'B', 'B', 'B', 'B', 'B', 'B', 'B', 'B', 'B', 'B', 'B', 'B', 'B', 'B', 'B']\n",
      "[1.0, 1.0, 1.0, 1.0, 1.0, 1.0, 1.0, 1.0, 1.0, 1.0, 1.0, 1.0, 1.0, 1.0, 1.0, 1.0, 1.0, 1.0, 1.0, 1.0, 1.0, 1.0, 1.0, 1.0, 1.0, 1.0, 1.0, 1.0, 1.0, 1.0, 1.0, 1.0, 1.0, 1.0, 1.0, 1.0, 1.0, 1.0, 1.0, 1.0, 1.0, 1.0, 1.0, 1.0, 1.0, 1.0, 1.0, 1.0, 1.0, 1.0, 1.0, 1.0, 1.0, 1.0, 1.0, 1.0, 1.0, 1.0, 1.0, 1.0, 1.0, 1.0, 1.0, 1.0, 1.0, 1.0, 1.0, 1.0, 1.0, 1.0, 1.0, 1.0, 1.0, 1.0, 1.0, 1.0, 1.0, 1.0, 1.0, 1.0, 1.0, 1.0, 1.0, 1.0, 1.0, 1.0, 1.0, 1.0, 1.0, 1.0, 1.0, 1.0, 1.0, 1.0, 1.0, 1.0, 1.0, 1.0, 1.0, 1.0, 1.0, 1.0, 1.0, 1.0, 1.0, 1.0, 1.0, 1.0, 1.0, 1.0, 1.0, 1.0, 1.0, 1.0, 1.0, 1.0, 1.0, 1.0, 1.0, 1.0, 1.0, 1.0, 1.0, 1.0, 1.0, 1.0, 1.0, 1.0, 1.0, 1.0, 1.0, 1.0, 1.0, 1.0, 1.0, 1.0, 1.0, 1.0, 1.0, 1.0, 1.0, 1.0, 1.0, 1.0, 1.0, 1.0, 1.0, 1.0, 1.0, 1.0, 1.0, 1.0, 1.0, 1.0, 1.0, 1.0, 1.0, 1.0, 1.0, 1.0, 1.0, 1.0, 1.0, 1.0, 1.0, 1.0, 1.0, 1.0, 1.0, 1.0, 1.0, 1.0, 1.0, 1.0, 1.0, 1.0, 1.0, 1.0, 1.0, 1.0, 1.0, 1.0, 1.0, 1.0, 1.0, 1.0, 1.0, 1.0, 1.0, 1.0, 1.0, 1.0, 1.0, 1.0, 1.0, 1.0, 1.0, 1.0, 1.0, 1.0, 1.0, 1.0, 1.0, 1.0, 1.0, 1.0, 1.0, 1.0, 1.0, 1.0, 1.0, 1.0, 1.0, 1.0, 1.0, 1.0, 1.0, 1.0, 1.0, 1.0, 1.0, 1.0, 1.0, 1.0, 1.0, 1.0, 1.0, 1.0, 1.0, 1.0, 1.0, 1.0, 1.0, 1.0, 1.0, 1.0, 1.0, 1.0, 1.0, 1.0, 1.0, 1.0, 1.0, 1.0, 1.0]\n",
      "[0.0, 0.0, 0.0, 0.0, 0.0, 0.0, 0.0, 0.0, 0.0, 0.0, 0.0, 0.0, 0.0, 0.0, 0.0, 0.0, 0.0, 0.0, 0.0, 0.0, 0.0, 0.0, 0.0, 0.0, 0.0, 0.0, 0.0, 0.0, 0.0, 0.0, 0.0, 0.0, 0.0, 0.0, 0.0, 0.0, 0.0, 0.0, 0.0, 0.0, 0.0, 0.0, 0.0, 0.0, 0.0, 0.0, 0.0, 0.0, 0.0, 0.0, 0.0, 0.0, 0.0, 0.0, 0.0, 0.0, 0.0, 0.0, 0.0, 0.0, 0.0, 0.0, 0.0, 0.0, 0.0, 0.0, 0.0, 0.0, 0.0, 0.0, 0.0, 0.0, 0.0, 0.0, 0.0, 0.0, 0.0, 0.0, 0.0, 0.0, 0.0, 0.0, 0.0, 0.0, 0.0, 0.0, 0.0, 0.0, 0.0, 0.0, 0.0, 0.0, 0.0, 0.0, 0.0, 0.0, 0.0, 0.0, 0.0, 0.0, 0.0, 0.0, 0.0, 0.0, 0.0, 0.0, 0.0, 0.0, 0.0, 0.0, 0.0, 0.0, 0.0, 0.0, 0.0, 0.0, 0.0, 0.0, 0.0, 0.0, 0.0, 0.0, 0.0, 0.0, 0.0, 0.0, 0.0, 0.0, 0.0, 0.0, 0.0, 0.0, 0.0, 0.0, 0.0, 0.0, 0.0, 0.0, 0.0, 0.0, 0.0, 0.0, 0.0, 0.0, 0.0, 0.0, 0.0, 0.0, 0.0, 0.0, 0.0, 0.0, 0.0, 0.0, 0.0, 0.0, 0.0, 0.0, 0.0, 0.0, 0.0, 0.0, 0.0, 0.0, 0.0, 0.0, 0.0, 0.0, 0.0, 0.0, 0.0, 0.0, 0.0, 0.0, 0.0, 0.0, 0.0, 0.0, 0.0, 0.0, 0.0, 0.0, 0.0, 0.0, 0.0, 0.0, 0.0, 0.0, 0.0, 0.0, 0.0, 0.0, 0.0, 0.0, 0.0, 0.0, 0.0, 0.0, 0.0, 0.0, 0.0, 0.0, 0.0, 0.0, 0.0, 0.0, 0.0, 0.0, 0.0, 0.0, 0.0, 0.0, 0.0, 0.0, 0.0, 0.0, 0.0, 0.0, 0.0, 0.0, 0.0, 0.0, 0.0, 0.0, 0.0, 0.0, 0.0, 0.0, 0.0, 0.0, 0.0, 0.0, 0.0, 0.0, 0.0, 0.0, 0.0, 0.0, 0.0, 0.0, 0.0, 0.0, 0.0, 0.0, 0.0]\n"
     ]
    }
   ],
   "source": [
    "# Create Cplex Problems\n",
    "\n",
    "myProblem = None\n",
    "\n",
    "try:\n",
    "    myProblem = cplex.Cplex()     \n",
    "except CplexError:\n",
    "    print (\"exc\")\n",
    "print(len(my_obj), len(my_names))\n",
    "myProblem.variables.add(obj = my_obj,\n",
    "                      lb = lower_bounds,\n",
    "                      ub = upper_bounds,\n",
    "                      names = my_names)\n",
    "\n",
    "# myProblem.variables.add(names= time_names, \n",
    "#                         types = [\"C\"]*len(time_names),\n",
    "#                         ub = [cplex.infinity]*len(time_names),\n",
    "#                         lb = [-24]*len(time_names)) \n",
    "\n",
    "\n",
    "myProblem.objective.set_sense(myProblem.objective.sense.minimize)\n",
    "\n",
    "for i in range(0, num_names):\n",
    "    myProblem.variables.set_types(i,myProblem.variables.type.binary)\n",
    "\n",
    "myProblem.linear_constraints.add(lin_expr = constraints_,\n",
    "                                 senses = constraint_senses,\n",
    "                                 rhs = rhs,\n",
    "                                 names = constraint_names)\n",
    "\n",
    "print(myProblem.variables.get_names())\n",
    "print(myProblem.variables.get_types())\n",
    "print(myProblem.variables.get_upper_bounds())\n",
    "print(myProblem.variables.get_lower_bounds())\n"
   ]
  },
  {
   "cell_type": "code",
   "execution_count": 211,
   "metadata": {
    "scrolled": false
   },
   "outputs": [
    {
     "name": "stdout",
     "output_type": "stream",
     "text": [
      "Version identifier: 20.1.0.0 | 2020-11-11 | 9bedb6d68\n",
      "CPXPARAM_Read_DataCheck                          1\n",
      "Tried aggregator 1 time.\n",
      "MIP Presolve eliminated 16 rows and 30 columns.\n",
      "MIP Presolve modified 180 coefficients.\n",
      "Reduced MIP has 108 rows, 215 columns, and 3195 nonzeros.\n",
      "Reduced MIP has 215 binaries, 0 generals, 0 SOSs, and 0 indicators.\n",
      "Presolve time = 0.00 sec. (2.24 ticks)\n",
      "Found incumbent of value 205.000000 after 0.00 sec. (4.37 ticks)\n",
      "Probing time = 0.00 sec. (2.64 ticks)\n",
      "Tried aggregator 1 time.\n",
      "Detecting symmetries...\n",
      "Reduced MIP has 108 rows, 215 columns, and 3195 nonzeros.\n",
      "Reduced MIP has 215 binaries, 0 generals, 0 SOSs, and 0 indicators.\n",
      "Presolve time = 0.02 sec. (1.66 ticks)\n",
      "Probing time = 0.00 sec. (2.66 ticks)\n",
      "Clique table members: 1708.\n",
      "MIP emphasis: balance optimality and feasibility.\n",
      "MIP search method: dynamic search.\n",
      "Parallel mode: deterministic, using up to 8 threads.\n",
      "Root relaxation solution time = 0.00 sec. (0.91 ticks)\n",
      "\n",
      "        Nodes                                         Cuts/\n",
      "   Node  Left     Objective  IInf  Best Integer    Best Bound    ItCnt     Gap\n",
      "\n",
      "*     0+    0                          205.0000        0.0000           100.00%\n",
      "*     0+    0                          142.0000        0.0000           100.00%\n",
      "*     0+    0                          110.0000        0.0000           100.00%\n",
      "      0     0       79.0000    16      110.0000       79.0000       70   28.18%\n",
      "      0     0       79.0000    14      110.0000      Cuts: 20       81   28.18%\n",
      "      0     0       79.0000    21      110.0000      Cuts: 12       90   28.18%\n",
      "      0     0       79.0000    23      110.0000      Cuts: 13      110   28.18%\n",
      "*     0+    0                          105.0000       79.0000            24.76%\n",
      "      0     0        cutoff            105.0000      105.0000      110    0.00%\n",
      "Elapsed time = 0.13 sec. (40.30 ticks, tree = 0.01 MB, solutions = 4)\n",
      "\n",
      "Clique cuts applied:  3\n",
      "Zero-half cuts applied:  11\n",
      "\n",
      "Root node processing (before b&c):\n",
      "  Real time             =    0.13 sec. (40.32 ticks)\n",
      "Parallel b&c, 8 threads:\n",
      "  Real time             =    0.00 sec. (0.00 ticks)\n",
      "  Sync time (average)   =    0.00 sec.\n",
      "  Wait time (average)   =    0.00 sec.\n",
      "                          ------------\n",
      "Total (root+branch&cut) =    0.13 sec. (40.32 ticks)\n",
      "Problem name         : \n",
      "Objective sense      : Minimize\n",
      "Variables            :     245  [Binary: 245]\n",
      "Objective nonzeros   :     210\n",
      "Linear constraints   :     124  [Less: 72,  Greater: 5,  Equal: 47]\n",
      "  Nonzeros           :    3405\n",
      "  RHS nonzeros       :      88\n",
      "\n",
      "Variables            : Min LB: 0.000000         Max UB: 1.000000       \n",
      "Objective nonzeros   : Min   : 2.000000         Max   : 32.00000       \n",
      "Linear constraints   :\n",
      "  Nonzeros           : Min   : 1.000000         Max   : 145.0000       \n",
      "  RHS nonzeros       : Min   : 1.000000         Max   : 5.000000       \n",
      "\n",
      "xO31  -  1.0\n",
      "x1X1  -  1.0\n",
      "x341  -  1.0\n",
      "x411  -  1.0\n",
      "xOX2  -  1.0\n",
      "xO23  -  1.0\n",
      "x263  -  1.0\n",
      "x5X3  -  1.0\n",
      "x653  -  1.0\n",
      "xOX4  -  1.0\n",
      "xOX5  -  1.0\n"
     ]
    }
   ],
   "source": [
    "# Find the solutions\n",
    "try:\n",
    "    myProblem.solve()\n",
    "    \n",
    "    print(myProblem.get_stats())\n",
    "    values=myProblem.solution.get_values()\n",
    "    names=myProblem.variables.get_names()\n",
    "    \n",
    "    for v, n in zip(values, names):\n",
    "        if v > 0.11:\n",
    "            print(n, \" - \",v if isinstance(v, int) else round(v,1))\n",
    "except cplex.exceptions.errors.CplexSolverError:\n",
    "    print(\"No solution\")\n",
    "    \n"
   ]
  }
 ],
 "metadata": {
  "kernelspec": {
   "display_name": "Python 3",
   "language": "python",
   "name": "python3"
  },
  "language_info": {
   "codemirror_mode": {
    "name": "ipython",
    "version": 3
   },
   "file_extension": ".py",
   "mimetype": "text/x-python",
   "name": "python",
   "nbconvert_exporter": "python",
   "pygments_lexer": "ipython3",
   "version": "3.8.5"
  }
 },
 "nbformat": 4,
 "nbformat_minor": 4
}
