{
 "cells": [
  {
   "cell_type": "code",
   "execution_count": 527,
   "metadata": {},
   "outputs": [],
   "source": [
    "import cplex\n",
    "from cplex.exceptions import CplexError\n",
    "import sys\n",
    "import pandas as pd\n",
    "import numpy as np\n",
    "import docplex"
   ]
  },
  {
   "cell_type": "code",
   "execution_count": 528,
   "metadata": {},
   "outputs": [],
   "source": [
    "xls = pd.ExcelFile('logistic.xlsx')\n",
    "\n",
    "vehicles = [1,2,3,4,5]                                # V\n",
    "customers = [1,2,3,4,5,6,7,8,9]                       # C\n",
    "\n",
    "num_vehicles = 2\n",
    "num_customers = 2\n",
    "num_locations = num_customers + 1                     \n",
    "num_names = (num_locations ** 2) * num_vehicles\n",
    "\n",
    "locations = [0] + customers[:num_customers]           # C': gồm các customers và Depot suất phát + Depot kết thúc\n",
    "\n",
    "# quy ước: \n",
    "#    + (i,j) là cạnh (edge) thuộc tập E\n",
    "#    + i,j là 2 customer liền kề trên 1 route"
   ]
  },
  {
   "cell_type": "code",
   "execution_count": 529,
   "metadata": {},
   "outputs": [
    {
     "name": "stdout",
     "output_type": "stream",
     "text": [
      "18\n",
      "Names  ['x001', 'x011', 'x021', 'x101', 'x111', 'x121', 'x201', 'x211', 'x221', 'x002', 'x012', 'x022', 'x102', 'x112', 'x122', 'x202', 'x212', 'x222']\n"
     ]
    }
   ],
   "source": [
    "my_names = [\"x\"+str(i)+str(j) + str(k) for k in range(1,num_vehicles + 1) for i in range(0,num_locations) for j in range(0, num_locations) ]  \n",
    "\n",
    "print(len(my_names))\n",
    "print(\"Names \", my_names)"
   ]
  },
  {
   "cell_type": "code",
   "execution_count": 530,
   "metadata": {},
   "outputs": [
    {
     "name": "stdout",
     "output_type": "stream",
     "text": [
      "Object  [0, 18, 30, 18, 0, 23, 30, 23, 0, 0, 18, 30, 18, 0, 23, 30, 23, 0]\n"
     ]
    }
   ],
   "source": [
    "cost_matrix = pd.read_excel(xls, 'Cost Matrix')\n",
    "my_obj = [int(cost_matrix.iat[i,j]) for i in range(0,num_locations ) for j in range(1,num_locations + 1)]*num_vehicles\n",
    "\n",
    "print(\"Object \",my_obj)"
   ]
  },
  {
   "cell_type": "code",
   "execution_count": 531,
   "metadata": {},
   "outputs": [
    {
     "data": {
      "text/plain": [
       "[100, 70]"
      ]
     },
     "execution_count": 531,
     "metadata": {},
     "output_type": "execute_result"
    }
   ],
   "source": [
    "capacity_matrix = pd.read_excel(xls, 'Capacity')\n",
    "vehicles_capacity = [capacity_matrix.iat[i,1] for i in range(0, num_vehicles)]\n",
    "vehicles_capacity"
   ]
  },
  {
   "cell_type": "code",
   "execution_count": 532,
   "metadata": {},
   "outputs": [
    {
     "data": {
      "text/plain": [
       "{1: 32, 2: 45}"
      ]
     },
     "execution_count": 532,
     "metadata": {},
     "output_type": "execute_result"
    }
   ],
   "source": [
    "demand_matrix = pd.read_excel(xls, 'Demand Matrix')\n",
    "demand = {customers[i]: demand_matrix.iat[i,1] for i in range(0, num_customers)}\n",
    "demand"
   ]
  },
  {
   "cell_type": "code",
   "execution_count": 533,
   "metadata": {},
   "outputs": [
    {
     "name": "stdout",
     "output_type": "stream",
     "text": [
      "Lb  [0, 0, 0, 0, 0, 0, 0, 0, 0, 0, 0, 0, 0, 0, 0, 0, 0, 0]\n",
      "Rb  [1, 1, 1, 1, 1, 1, 1, 1, 1, 1, 1, 1, 1, 1, 1, 1, 1, 1]\n"
     ]
    }
   ],
   "source": [
    "lower_bounds = [0]*num_names\n",
    "upper_bounds = [1]*num_names\n",
    "\n",
    "print(\"Lb \", lower_bounds)\n",
    "print(\"Rb \", upper_bounds)"
   ]
  },
  {
   "cell_type": "code",
   "execution_count": 567,
   "metadata": {},
   "outputs": [
    {
     "data": {
      "text/plain": [
       "[([0, 0, 0, 1, 0, 0, 0, 0, 0, 0, 0, 0, 1, 0, 0, 0, 0, 0], 'E', 1, 'C21'),\n",
       " ([0, 0, 0, 0, 0, 1, 0, 0, 0, 0, 0, 0, 0, 0, 1, 0, 0, 0], 'E', 1, 'C23'),\n",
       " ([0, 0, 0, 0, 0, 0, 1, 0, 0, 0, 0, 0, 0, 0, 0, 1, 0, 0], 'E', 1, 'C24'),\n",
       " ([0, 0, 0, 0, 0, 0, 0, 1, 0, 0, 0, 0, 0, 0, 0, 0, 1, 0], 'E', 1, 'C25')]"
      ]
     },
     "execution_count": 567,
     "metadata": {},
     "output_type": "execute_result"
    }
   ],
   "source": [
    "# CONSTRAINTS_2: \n",
    "# # Một cạnh bất kỳ (i->j) chỉ tổn tại trên duy nhất 1 Vehicle. Nhưng i CHỈ LÀ customers, j là locations\n",
    "contrains_2 = []\n",
    "_i = 0\n",
    "for i in customers[:num_customers]:\n",
    "    for j in locations[:num_locations]:\n",
    "        _i += 1\n",
    "        con_ = [(1 if i != j and int(name[1]) == i and int(name[2]) == j else 0) for name in my_names]\n",
    "        if len([c for c in con_  if c != 0]) > 0:\n",
    "            contrains_2.append((con_,\"E\", 1, \"C2\" + str(_i)))\n",
    "    \n",
    "contrains_2"
   ]
  },
  {
   "cell_type": "code",
   "execution_count": 568,
   "metadata": {},
   "outputs": [
    {
     "data": {
      "text/plain": [
       "[([0, 0, 0, 32, 32, 32, 45, 45, 45, 0, 0, 0, 0, 0, 0, 0, 0, 0],\n",
       "  'L',\n",
       "  100.0,\n",
       "  'C31'),\n",
       " ([0, 0, 0, 0, 0, 0, 0, 0, 0, 0, 0, 0, 32, 32, 32, 45, 45, 45],\n",
       "  'L',\n",
       "  70.0,\n",
       "  'C32')]"
      ]
     },
     "execution_count": 568,
     "metadata": {},
     "output_type": "execute_result"
    }
   ],
   "source": [
    "# CONSTRAINTS_3: \n",
    "# # Lượng hàng chở đển Customer của 1 Vehicle phải nhỏ hơn bằng Capacity. Nhưng i CHỈ LÀ customers, j là locations\n",
    "contrains_3 = []\n",
    "_i = 0\n",
    "for veh, cap in zip(vehicles[0:num_vehicles],vehicles_capacity[0:num_vehicles]): \n",
    "    _i += 1\n",
    "    contrains_3.append(([int(demand[int(name[1])]) if (int(name[3]) == veh and int(name[1]) != 0) else 0 for name in my_names],\"L\", float(cap), \"C3\" + str(_i)))\n",
    "contrains_3"
   ]
  },
  {
   "cell_type": "code",
   "execution_count": 569,
   "metadata": {},
   "outputs": [
    {
     "data": {
      "text/plain": [
       "[([1, 1, 1, 0, 0, 0, 0, 0, 0, 0, 0, 0, 0, 0, 0, 0, 0, 0], 'E', 1, 'C41'),\n",
       " ([0, 0, 0, 0, 0, 0, 0, 0, 0, 1, 1, 1, 0, 0, 0, 0, 0, 0], 'E', 1, 'C42')]"
      ]
     },
     "execution_count": 569,
     "metadata": {},
     "output_type": "execute_result"
    }
   ],
   "source": [
    "# CONSTRAINTS_4: \n",
    "# # Với mỗi Vehicle, khi suất phát từ Depot, nó chỉ có thể đến duy nhất 1 Customer\n",
    "contrains_4 = []\n",
    "_i = 0\n",
    "for k in vehicles[0:num_customers]:\n",
    "    _i += 1\n",
    "    contrains_4.append(([(1 if (int(name[1]) == 0 and int(name[3]) == k) else 0) for name in my_names],\"E\", 1, \"C4\" + str(_i)))\n",
    "    \n",
    "contrains_4"
   ]
  },
  {
   "cell_type": "code",
   "execution_count": 570,
   "metadata": {},
   "outputs": [
    {
     "data": {
      "text/plain": [
       "[([0, 1, 0, -1, 1, -1, 0, 1, 0, 0, 0, 0, 0, 0, 0, 0, 0, 0], 'E', 0, 'C51'),\n",
       " ([0, 1, 0, 0, 1, 0, -1, 1, -1, 0, 0, 0, 0, 0, 0, 0, 0, 0], 'E', 0, 'C52'),\n",
       " ([0, 0, 1, -1, -1, 1, 0, 0, 1, 0, 0, 0, 0, 0, 0, 0, 0, 0], 'E', 0, 'C53'),\n",
       " ([0, 0, 1, 0, 0, 1, -1, -1, 1, 0, 0, 0, 0, 0, 0, 0, 0, 0], 'E', 0, 'C54'),\n",
       " ([0, 0, 0, 0, 0, 0, 0, 0, 0, 0, 1, 0, -1, 1, -1, 0, 1, 0], 'E', 0, 'C55'),\n",
       " ([0, 0, 0, 0, 0, 0, 0, 0, 0, 0, 1, 0, 0, 1, 0, -1, 1, -1], 'E', 0, 'C56'),\n",
       " ([0, 0, 0, 0, 0, 0, 0, 0, 0, 0, 0, 1, -1, -1, 1, 0, 0, 1], 'E', 0, 'C57'),\n",
       " ([0, 0, 0, 0, 0, 0, 0, 0, 0, 0, 0, 1, 0, 0, 1, -1, -1, 1], 'E', 0, 'C58')]"
      ]
     },
     "execution_count": 570,
     "metadata": {},
     "output_type": "execute_result"
    }
   ],
   "source": [
    "# CONSTRAINTS_5: \n",
    "# # Trên route của Vehicle k có cạnh (i->j) : tổng tất cả cạnh đầu 'ra' của i BẰNG tổng tất cả cạnh đầu 'vào' của j\n",
    "contrains_5 = []\n",
    "_i = 0\n",
    "for k in vehicles[0:num_vehicles]:\n",
    "    for p in customers[:num_customers]: # i\n",
    "        for h in customers[:num_customers]: # j\n",
    "            _i += 1\n",
    "            foo = lambda k,p,h,n: 0 if int(n[3]) != k else 1 if int(n[2]) == p else -1 if int(n[1]) == h else 0                \n",
    "            contrains_5.append(([foo(k, p, h, name) for name in my_names],\"E\", 0, \"C5\" + str(_i)))\n",
    "\n",
    "contrains_5"
   ]
  },
  {
   "cell_type": "code",
   "execution_count": 571,
   "metadata": {},
   "outputs": [
    {
     "data": {
      "text/plain": [
       "[([0, 0, 0, 1, 0, 0, 1, 0, 0, 0, 0, 0, 0, 0, 0, 0, 0, 0], 'E', 1, 'C61'),\n",
       " ([0, 0, 0, 0, 0, 0, 0, 0, 0, 0, 0, 0, 1, 0, 0, 1, 0, 0], 'E', 1, 'C62')]"
      ]
     },
     "execution_count": 571,
     "metadata": {},
     "output_type": "execute_result"
    }
   ],
   "source": [
    "# CONSTRAINTS_6: \n",
    "# # Route của Vehicle k phải luôn trở về Depot (n+1), tức là luôn tồn tại điểm i trên route của k sao cho nó đi đến n+1\n",
    "# # trong đó n+1 là Depot kết thúc\n",
    "contrains_6 = []\n",
    "_i = 0\n",
    "for veh in vehicles[0:num_vehicles]: \n",
    "    _i += 1\n",
    "    contrains_6.append(([(1 if (int(name[3]) == veh and int(name[2]) == 0 and int(name[1]) != 0) else 0) for name in my_names],\"E\", 1, \"C6\" + str(_i)))\n",
    "    \n",
    "contrains_6\n"
   ]
  },
  {
   "cell_type": "code",
   "execution_count": 572,
   "metadata": {},
   "outputs": [
    {
     "data": {
      "text/plain": [
       "[([1, 0, 0, 0, 1, 0, 0, 0, 1, 1, 0, 0, 0, 1, 0, 0, 0, 1], 'E', 0, 'CX1')]"
      ]
     },
     "execution_count": 572,
     "metadata": {},
     "output_type": "execute_result"
    }
   ],
   "source": [
    "# CONSTRAINTS_X:\n",
    "contrains_x = []\n",
    "_i = 0\n",
    "\n",
    "_i += 1\n",
    "contrains_x.append(([(1 if int(name[1]) == int(name[2]) else 0) for name in my_names],\"E\", 0, \"CX\" + str(_i)))\n",
    "    \n",
    "contrains_x\n"
   ]
  },
  {
   "cell_type": "code",
   "execution_count": 573,
   "metadata": {},
   "outputs": [],
   "source": [
    "constraints_group = contrains_2 + contrains_6 + contrains_x\n",
    "\n",
    "constraints_ = []\n",
    "constraint_senses = []\n",
    "rhs = []\n",
    "constraint_names = []\n",
    "for i in constraints_group:\n",
    "    constraints_.append([my_names, i[0]])\n",
    "    constraint_senses.append(i[1])\n",
    "    rhs.append(i[2])\n",
    "    constraint_names.append(i[3])\n",
    "# print(constraints_)\n",
    "# print(constraint_senses)\n",
    "# print(rhs)\n"
   ]
  },
  {
   "cell_type": "code",
   "execution_count": 574,
   "metadata": {},
   "outputs": [
    {
     "data": {
      "text/plain": [
       "range(0, 7)"
      ]
     },
     "execution_count": 574,
     "metadata": {},
     "output_type": "execute_result"
    }
   ],
   "source": [
    "myProblem = None\n",
    "try:\n",
    "    myProblem = cplex.Cplex()     \n",
    "except CplexError:\n",
    "    print (\"exc\")\n",
    "    \n",
    "myProblem.variables.add(obj = my_obj,\n",
    "                      lb = lower_bounds,\n",
    "                      ub = upper_bounds,\n",
    "                      names = my_names)\n",
    "\n",
    "myProblem.objective.set_sense(myProblem.objective.sense.minimize)\n",
    "\n",
    "for i in range(0, num_names):\n",
    "    myProblem.variables.set_types(i,myProblem.variables.type.binary)\n",
    "\n",
    "    \n",
    "myProblem.linear_constraints.add(lin_expr = constraints_,\n",
    "                                 senses = constraint_senses,\n",
    "                                 rhs = rhs,\n",
    "                                 names = constraint_names)"
   ]
  },
  {
   "cell_type": "code",
   "execution_count": 575,
   "metadata": {},
   "outputs": [
    {
     "name": "stdout",
     "output_type": "stream",
     "text": [
      "Version identifier: 20.1.0.0 | 2020-11-11 | 9bedb6d68\n",
      "CPXPARAM_Read_DataCheck                          1\n",
      "Found incumbent of value 94.000000 after 0.00 sec. (0.00 ticks)\n",
      "Tried aggregator 2 times.\n",
      "MIP Presolve eliminated 4 rows and 15 columns.\n",
      "Aggregator did 3 substitutions.\n",
      "All rows and columns eliminated.\n",
      "Presolve time = 0.00 sec. (0.01 ticks)\n",
      "\n",
      "Root node processing (before b&c):\n",
      "  Real time             =    0.00 sec. (0.02 ticks)\n",
      "Parallel b&c, 8 threads:\n",
      "  Real time             =    0.00 sec. (0.00 ticks)\n",
      "  Sync time (average)   =    0.00 sec.\n",
      "  Wait time (average)   =    0.00 sec.\n",
      "                          ------------\n",
      "Total (root+branch&cut) =    0.00 sec. (0.02 ticks)\n",
      "Problem name         : \n",
      "Objective sense      : Minimize\n",
      "Variables            :      18  [Binary: 18]\n",
      "Objective nonzeros   :      12\n",
      "Linear constraints   :       7  [Equal: 7]\n",
      "  Nonzeros           :      18\n",
      "  RHS nonzeros       :       6\n",
      "\n",
      "Variables            : Min LB: 0.000000         Max UB: 1.000000       \n",
      "Objective nonzeros   : Min   : 18.00000         Max   : 30.00000       \n",
      "Linear constraints   :\n",
      "  Nonzeros           : Min   : 1.000000         Max   : 1.000000       \n",
      "  RHS nonzeros       : Min   : 1.000000         Max   : 1.000000       \n",
      "\n",
      "('x101', 1.0)\n",
      "('x121', 1.0)\n",
      "('x211', 1.0)\n",
      "('x202', 1.0)\n"
     ]
    }
   ],
   "source": [
    "# And print the solutions\n",
    "try:\n",
    "    myProblem.solve()\n",
    "    \n",
    "    print(myProblem.get_stats())\n",
    "    a=myProblem.solution.get_values()\n",
    "    b=myProblem.variables.get_names()\n",
    "    \n",
    "    for i in range(len(a)):\n",
    "        if a[i] != 0:\n",
    "            print((b[i],a[i]))\n",
    "except cplex.exceptions.errors.CplexSolverError:\n",
    "    print(\"No solution\")"
   ]
  },
  {
   "cell_type": "code",
   "execution_count": null,
   "metadata": {},
   "outputs": [],
   "source": []
  }
 ],
 "metadata": {
  "kernelspec": {
   "display_name": "Python 3",
   "language": "python",
   "name": "python3"
  },
  "language_info": {
   "codemirror_mode": {
    "name": "ipython",
    "version": 3
   },
   "file_extension": ".py",
   "mimetype": "text/x-python",
   "name": "python",
   "nbconvert_exporter": "python",
   "pygments_lexer": "ipython3",
   "version": "3.8.5"
  }
 },
 "nbformat": 4,
 "nbformat_minor": 4
}
