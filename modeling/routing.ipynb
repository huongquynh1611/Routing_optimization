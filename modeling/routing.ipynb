{
 "cells": [
  {
   "cell_type": "code",
   "execution_count": 869,
   "metadata": {},
   "outputs": [],
   "source": [
    "import cplex\n",
    "from cplex.exceptions import CplexError\n",
    "import sys\n",
    "import pandas as pd\n",
    "import numpy as np\n",
    "import docplex"
   ]
  },
  {
   "cell_type": "code",
   "execution_count": 870,
   "metadata": {},
   "outputs": [],
   "source": [
    "def pprint(constraints: list, names: list):\n",
    "    for c in constraints:\n",
    "        _c = [str(_i) + \"*\" + n if _i != 0 else \"0\" for _i, n in zip(c[0], names)]\n",
    "        print(c[3] + \": ( [\" + \" \".join(_c) + \"]  \" + c[1] + \"  \" + str(c[2]) + \" )\") \n",
    "        "
   ]
  },
  {
   "cell_type": "code",
   "execution_count": 891,
   "metadata": {},
   "outputs": [],
   "source": [
    "xls = pd.ExcelFile('logistic.xlsx')\n",
    "\n",
    "vehicles = [1,2,3,4,5]                                # V\n",
    "customers = [1,2,3,4,5,6,7,8,9]                       # C\n",
    "\n",
    "num_vehicles = 2\n",
    "num_customers = 4\n",
    "num_locations = num_customers + 1                     \n",
    "num_names = (num_locations ** 2) * num_vehicles\n",
    "\n",
    "locations = [0] + customers[:num_customers]           # C': gồm các customers và Depot suất phát + Depot kết thúc\n",
    "\n",
    "# quy ước: \n",
    "#    + (i,j) là cạnh (edge) thuộc tập E\n",
    "#    + i,j là 2 customer liền kề trên 1 route"
   ]
  },
  {
   "cell_type": "code",
   "execution_count": 892,
   "metadata": {},
   "outputs": [
    {
     "name": "stdout",
     "output_type": "stream",
     "text": [
      "50\n",
      "Names  ['x001', 'x011', 'x021', 'x031', 'x041', 'x101', 'x111', 'x121', 'x131', 'x141', 'x201', 'x211', 'x221', 'x231', 'x241', 'x301', 'x311', 'x321', 'x331', 'x341', 'x401', 'x411', 'x421', 'x431', 'x441', 'x002', 'x012', 'x022', 'x032', 'x042', 'x102', 'x112', 'x122', 'x132', 'x142', 'x202', 'x212', 'x222', 'x232', 'x242', 'x302', 'x312', 'x322', 'x332', 'x342', 'x402', 'x412', 'x422', 'x432', 'x442']\n"
     ]
    }
   ],
   "source": [
    "my_names = [\"x\"+str(i)+str(j) + str(k) for k in range(1,num_vehicles + 1) for i in range(0,num_locations) for j in range(0, num_locations) ]  \n",
    "\n",
    "print(len(my_names))\n",
    "print(\"Names \", my_names)\n",
    "def display(constraints):\n",
    "    pprint(constraints, my_names)"
   ]
  },
  {
   "cell_type": "code",
   "execution_count": 893,
   "metadata": {},
   "outputs": [
    {
     "name": "stdout",
     "output_type": "stream",
     "text": [
      "Object  [0, 18, 30, 28, 27, 18, 0, 23, 10, 4, 30, 23, 0, 32, 29, 28, 10, 32, 0, 2, 27, 4, 29, 2, 0, 0, 18, 30, 28, 27, 18, 0, 23, 10, 4, 30, 23, 0, 32, 29, 28, 10, 32, 0, 2, 27, 4, 29, 2, 0]\n"
     ]
    }
   ],
   "source": [
    "cost_matrix = pd.read_excel(xls, 'Cost Matrix')\n",
    "my_obj = [int(cost_matrix.iat[i,j]) for i in range(0,num_locations ) for j in range(1,num_locations + 1)]*num_vehicles\n",
    "\n",
    "print(\"Object \",my_obj)"
   ]
  },
  {
   "cell_type": "code",
   "execution_count": 894,
   "metadata": {},
   "outputs": [
    {
     "data": {
      "text/plain": [
       "[100, 70]"
      ]
     },
     "execution_count": 894,
     "metadata": {},
     "output_type": "execute_result"
    }
   ],
   "source": [
    "capacity_matrix = pd.read_excel(xls, 'Capicity')\n",
    "vehicles_capacity = [capacity_matrix.iat[i,1] for i in range(0, num_vehicles)]\n",
    "vehicles_capacity"
   ]
  },
  {
   "cell_type": "code",
   "execution_count": 895,
   "metadata": {},
   "outputs": [
    {
     "data": {
      "text/plain": [
       "{1: 32, 2: 45, 3: 16, 4: 15}"
      ]
     },
     "execution_count": 895,
     "metadata": {},
     "output_type": "execute_result"
    }
   ],
   "source": [
    "demand_matrix = pd.read_excel(xls, 'Demand Matrix')\n",
    "demand = {customers[i]: demand_matrix.iat[i,1] for i in range(0, num_customers)}\n",
    "demand"
   ]
  },
  {
   "cell_type": "code",
   "execution_count": 896,
   "metadata": {},
   "outputs": [
    {
     "name": "stdout",
     "output_type": "stream",
     "text": [
      "Lb  [0, 0, 0, 0, 0, 0, 0, 0, 0, 0, 0, 0, 0, 0, 0, 0, 0, 0, 0, 0, 0, 0, 0, 0, 0, 0, 0, 0, 0, 0, 0, 0, 0, 0, 0, 0, 0, 0, 0, 0, 0, 0, 0, 0, 0, 0, 0, 0, 0, 0]\n",
      "Rb  [1, 1, 1, 1, 1, 1, 1, 1, 1, 1, 1, 1, 1, 1, 1, 1, 1, 1, 1, 1, 1, 1, 1, 1, 1, 1, 1, 1, 1, 1, 1, 1, 1, 1, 1, 1, 1, 1, 1, 1, 1, 1, 1, 1, 1, 1, 1, 1, 1, 1]\n"
     ]
    }
   ],
   "source": [
    "lower_bounds = [0]*num_names\n",
    "upper_bounds = [1]*num_names\n",
    "\n",
    "print(\"Lb \", lower_bounds)\n",
    "print(\"Rb \", upper_bounds)"
   ]
  },
  {
   "cell_type": "code",
   "execution_count": 897,
   "metadata": {},
   "outputs": [
    {
     "name": "stdout",
     "output_type": "stream",
     "text": [
      "C21: ( [0 1*x011 0 0 0 0 0 0 0 0 0 0 0 0 0 0 0 0 0 0 0 0 0 0 0 0 1*x012 0 0 0 0 0 0 0 0 0 0 0 0 0 0 0 0 0 0 0 0 0 0 0]  E  1 )\n",
      "C22: ( [0 0 1*x021 0 0 0 0 0 0 0 0 0 0 0 0 0 0 0 0 0 0 0 0 0 0 0 0 1*x022 0 0 0 0 0 0 0 0 0 0 0 0 0 0 0 0 0 0 0 0 0 0]  E  1 )\n",
      "C23: ( [0 0 0 1*x031 0 0 0 0 0 0 0 0 0 0 0 0 0 0 0 0 0 0 0 0 0 0 0 0 1*x032 0 0 0 0 0 0 0 0 0 0 0 0 0 0 0 0 0 0 0 0 0]  E  1 )\n",
      "C24: ( [0 0 0 0 1*x041 0 0 0 0 0 0 0 0 0 0 0 0 0 0 0 0 0 0 0 0 0 0 0 0 1*x042 0 0 0 0 0 0 0 0 0 0 0 0 0 0 0 0 0 0 0 0]  E  1 )\n",
      "C25: ( [0 0 0 0 0 1*x101 0 0 0 0 0 0 0 0 0 0 0 0 0 0 0 0 0 0 0 0 0 0 0 0 1*x102 0 0 0 0 0 0 0 0 0 0 0 0 0 0 0 0 0 0 0]  E  1 )\n",
      "C26: ( [0 0 0 0 0 0 0 1*x121 0 0 0 0 0 0 0 0 0 0 0 0 0 0 0 0 0 0 0 0 0 0 0 0 1*x122 0 0 0 0 0 0 0 0 0 0 0 0 0 0 0 0 0]  E  1 )\n",
      "C27: ( [0 0 0 0 0 0 0 0 1*x131 0 0 0 0 0 0 0 0 0 0 0 0 0 0 0 0 0 0 0 0 0 0 0 0 1*x132 0 0 0 0 0 0 0 0 0 0 0 0 0 0 0 0]  E  1 )\n",
      "C28: ( [0 0 0 0 0 0 0 0 0 1*x141 0 0 0 0 0 0 0 0 0 0 0 0 0 0 0 0 0 0 0 0 0 0 0 0 1*x142 0 0 0 0 0 0 0 0 0 0 0 0 0 0 0]  E  1 )\n",
      "C29: ( [0 0 0 0 0 0 0 0 0 0 1*x201 0 0 0 0 0 0 0 0 0 0 0 0 0 0 0 0 0 0 0 0 0 0 0 0 1*x202 0 0 0 0 0 0 0 0 0 0 0 0 0 0]  E  1 )\n",
      "C210: ( [0 0 0 0 0 0 0 0 0 0 0 1*x211 0 0 0 0 0 0 0 0 0 0 0 0 0 0 0 0 0 0 0 0 0 0 0 0 1*x212 0 0 0 0 0 0 0 0 0 0 0 0 0]  E  1 )\n",
      "C211: ( [0 0 0 0 0 0 0 0 0 0 0 0 0 1*x231 0 0 0 0 0 0 0 0 0 0 0 0 0 0 0 0 0 0 0 0 0 0 0 0 1*x232 0 0 0 0 0 0 0 0 0 0 0]  E  1 )\n",
      "C212: ( [0 0 0 0 0 0 0 0 0 0 0 0 0 0 1*x241 0 0 0 0 0 0 0 0 0 0 0 0 0 0 0 0 0 0 0 0 0 0 0 0 1*x242 0 0 0 0 0 0 0 0 0 0]  E  1 )\n",
      "C213: ( [0 0 0 0 0 0 0 0 0 0 0 0 0 0 0 1*x301 0 0 0 0 0 0 0 0 0 0 0 0 0 0 0 0 0 0 0 0 0 0 0 0 1*x302 0 0 0 0 0 0 0 0 0]  E  1 )\n",
      "C214: ( [0 0 0 0 0 0 0 0 0 0 0 0 0 0 0 0 1*x311 0 0 0 0 0 0 0 0 0 0 0 0 0 0 0 0 0 0 0 0 0 0 0 0 1*x312 0 0 0 0 0 0 0 0]  E  1 )\n",
      "C215: ( [0 0 0 0 0 0 0 0 0 0 0 0 0 0 0 0 0 1*x321 0 0 0 0 0 0 0 0 0 0 0 0 0 0 0 0 0 0 0 0 0 0 0 0 1*x322 0 0 0 0 0 0 0]  E  1 )\n",
      "C216: ( [0 0 0 0 0 0 0 0 0 0 0 0 0 0 0 0 0 0 0 1*x341 0 0 0 0 0 0 0 0 0 0 0 0 0 0 0 0 0 0 0 0 0 0 0 0 1*x342 0 0 0 0 0]  E  1 )\n",
      "C217: ( [0 0 0 0 0 0 0 0 0 0 0 0 0 0 0 0 0 0 0 0 1*x401 0 0 0 0 0 0 0 0 0 0 0 0 0 0 0 0 0 0 0 0 0 0 0 0 1*x402 0 0 0 0]  E  1 )\n",
      "C218: ( [0 0 0 0 0 0 0 0 0 0 0 0 0 0 0 0 0 0 0 0 0 1*x411 0 0 0 0 0 0 0 0 0 0 0 0 0 0 0 0 0 0 0 0 0 0 0 0 1*x412 0 0 0]  E  1 )\n",
      "C219: ( [0 0 0 0 0 0 0 0 0 0 0 0 0 0 0 0 0 0 0 0 0 0 1*x421 0 0 0 0 0 0 0 0 0 0 0 0 0 0 0 0 0 0 0 0 0 0 0 0 1*x422 0 0]  E  1 )\n",
      "C220: ( [0 0 0 0 0 0 0 0 0 0 0 0 0 0 0 0 0 0 0 0 0 0 0 1*x431 0 0 0 0 0 0 0 0 0 0 0 0 0 0 0 0 0 0 0 0 0 0 0 0 1*x432 0]  E  1 )\n"
     ]
    }
   ],
   "source": [
    "# CONSTRAINTS_2: \n",
    "# # Một cạnh bất kỳ (i->j) chỉ tổn tại trên duy nhất 1 Vehicle. Nhưng i CHỈ LÀ customers, j là locations\n",
    "contrains_2 = []\n",
    "_i = 0\n",
    "for i in locations[:num_locations]:\n",
    "    for j in locations[:num_locations]:\n",
    "        con_ = [(1 if i != j and int(name[1]) == i and int(name[2]) == j else 0) for name in my_names]\n",
    "        if len([c for c in con_  if c != 0]) > 0:\n",
    "            _i += 1\n",
    "\n",
    "            contrains_2.append((con_,\"E\", 1, \"C2\" + str(_i)))\n",
    "    \n",
    "display(contrains_2)\n"
   ]
  },
  {
   "cell_type": "code",
   "execution_count": 898,
   "metadata": {},
   "outputs": [
    {
     "name": "stdout",
     "output_type": "stream",
     "text": [
      "C31: ( [0 0 0 0 0 32*x101 0 32*x121 32*x131 32*x141 45*x201 45*x211 0 45*x231 45*x241 16*x301 16*x311 16*x321 0 16*x341 15*x401 15*x411 15*x421 15*x431 0 0 0 0 0 0 0 0 0 0 0 0 0 0 0 0 0 0 0 0 0 0 0 0 0 0]  L  100.0 )\n",
      "C32: ( [0 0 0 0 0 0 0 0 0 0 0 0 0 0 0 0 0 0 0 0 0 0 0 0 0 0 0 0 0 0 32*x102 0 32*x122 32*x132 32*x142 45*x202 45*x212 0 45*x232 45*x242 16*x302 16*x312 16*x322 0 16*x342 15*x402 15*x412 15*x422 15*x432 0]  L  70.0 )\n"
     ]
    }
   ],
   "source": [
    "# CONSTRAINTS_3: \n",
    "# # Lượng hàng chở đển Customer của 1 Vehicle phải nhỏ hơn bằng Capacity. Nhưng i CHỈ LÀ customers, j là locations\n",
    "contrains_3 = []\n",
    "_i = 0\n",
    "for veh, cap in zip(vehicles[0:num_vehicles],vehicles_capacity[0:num_vehicles]): \n",
    "    _i += 1\n",
    "    contrains_3.append(([int(demand[int(name[1])]) if (int(name[3]) == veh and int(name[1]) != 0 and int(name[1]) != int(name[2]) ) else 0 for name in my_names],\"L\", float(cap), \"C3\" + str(_i)))\n",
    "display(contrains_3)"
   ]
  },
  {
   "cell_type": "code",
   "execution_count": 899,
   "metadata": {},
   "outputs": [
    {
     "name": "stdout",
     "output_type": "stream",
     "text": [
      "C41: ( [1*x001 1*x011 1*x021 1*x031 1*x041 0 0 0 0 0 0 0 0 0 0 0 0 0 0 0 0 0 0 0 0 0 0 0 0 0 0 0 0 0 0 0 0 0 0 0 0 0 0 0 0 0 0 0 0 0]  E  1 )\n",
      "C42: ( [0 0 0 0 0 0 0 0 0 0 0 0 0 0 0 0 0 0 0 0 0 0 0 0 0 1*x002 1*x012 1*x022 1*x032 1*x042 0 0 0 0 0 0 0 0 0 0 0 0 0 0 0 0 0 0 0 0]  E  1 )\n"
     ]
    }
   ],
   "source": [
    "# CONSTRAINTS_4: \n",
    "# # Với mỗi Vehicle, khi suất phát từ Depot, nó chỉ có thể đến duy nhất 1 Customer\n",
    "contrains_4 = []\n",
    "_i = 0\n",
    "for k in vehicles[0:num_vehicles]:\n",
    "    _i += 1\n",
    "    contrains_4.append(([(1 if (int(name[1]) == 0 and int(name[3]) == k) else 0) for name in my_names],\"E\", 1, \"C4\" + str(_i)))\n",
    "    \n",
    "display(contrains_4)"
   ]
  },
  {
   "cell_type": "code",
   "execution_count": 900,
   "metadata": {},
   "outputs": [
    {
     "name": "stdout",
     "output_type": "stream",
     "text": [
      "C51: ( [0 -1*x011 0 0 0 1*x101 0 1*x121 1*x131 1*x141 0 -1*x211 0 0 0 0 -1*x311 0 0 0 0 -1*x411 0 0 0 0 0 0 0 0 0 0 0 0 0 0 0 0 0 0 0 0 0 0 0 0 0 0 0 0]  E  0 )\n",
      "C52: ( [0 0 -1*x021 0 0 0 0 -1*x121 0 0 1*x201 1*x211 0 1*x231 1*x241 0 0 -1*x321 0 0 0 0 -1*x421 0 0 0 0 0 0 0 0 0 0 0 0 0 0 0 0 0 0 0 0 0 0 0 0 0 0 0]  E  0 )\n",
      "C53: ( [0 0 0 -1*x031 0 0 0 0 -1*x131 0 0 0 0 -1*x231 0 1*x301 1*x311 1*x321 0 1*x341 0 0 0 -1*x431 0 0 0 0 0 0 0 0 0 0 0 0 0 0 0 0 0 0 0 0 0 0 0 0 0 0]  E  0 )\n",
      "C54: ( [0 0 0 0 -1*x041 0 0 0 0 -1*x141 0 0 0 0 -1*x241 0 0 0 0 -1*x341 1*x401 1*x411 1*x421 1*x431 0 0 0 0 0 0 0 0 0 0 0 0 0 0 0 0 0 0 0 0 0 0 0 0 0 0]  E  0 )\n",
      "C55: ( [0 0 0 0 0 0 0 0 0 0 0 0 0 0 0 0 0 0 0 0 0 0 0 0 0 0 -1*x012 0 0 0 1*x102 0 1*x122 1*x132 1*x142 0 -1*x212 0 0 0 0 -1*x312 0 0 0 0 -1*x412 0 0 0]  E  0 )\n",
      "C56: ( [0 0 0 0 0 0 0 0 0 0 0 0 0 0 0 0 0 0 0 0 0 0 0 0 0 0 0 -1*x022 0 0 0 0 -1*x122 0 0 1*x202 1*x212 0 1*x232 1*x242 0 0 -1*x322 0 0 0 0 -1*x422 0 0]  E  0 )\n",
      "C57: ( [0 0 0 0 0 0 0 0 0 0 0 0 0 0 0 0 0 0 0 0 0 0 0 0 0 0 0 0 -1*x032 0 0 0 0 -1*x132 0 0 0 0 -1*x232 0 1*x302 1*x312 1*x322 0 1*x342 0 0 0 -1*x432 0]  E  0 )\n",
      "C58: ( [0 0 0 0 0 0 0 0 0 0 0 0 0 0 0 0 0 0 0 0 0 0 0 0 0 0 0 0 0 -1*x042 0 0 0 0 -1*x142 0 0 0 0 -1*x242 0 0 0 0 -1*x342 1*x402 1*x412 1*x422 1*x432 0]  E  0 )\n"
     ]
    }
   ],
   "source": [
    "# CONSTRAINTS_5: \n",
    "# # Trên route của Vehicle k có cạnh (i->j) : tổng tất cả cạnh đầu 'ra' của i BẰNG tổng tất cả cạnh đầu 'vào' của j\n",
    "contrains_5 = []\n",
    "_i = 0\n",
    "for k in vehicles[0:num_vehicles]:\n",
    "    for p in customers[:num_customers]: # i\n",
    "        _i += 1\n",
    "        foo = lambda k,p,n: 0 if int(n[3]) != k or int(n[2]) == int(n[1]) else 1 if int(n[1]) == p else -1 if int(n[2]) == p else 0                \n",
    "        contrains_5.append(([foo(k, p, name) for name in my_names],\"E\", 0, \"C5\" + str(_i)))\n",
    "\n",
    "# for k in vehicles[0:num_vehicles]:\n",
    "#     for p in customers[:num_customers]: # i\n",
    "#         for h in customers[:num_customers]: # j\n",
    "#             _i += 1\n",
    "#             foo = lambda k,p,h,n: 0 if int(n[3]) != k or int(n[2]) == int(n[1]) else 1 if int(n[2]) == p else -1 if int(n[1]) == h else 0                \n",
    "#             contrains_5.append(([foo(k, p, h, name) for name in my_names],\"E\", 0, \"C5\" + str(_i)))\n",
    "\n",
    "display(contrains_5)"
   ]
  },
  {
   "cell_type": "code",
   "execution_count": 901,
   "metadata": {},
   "outputs": [
    {
     "name": "stdout",
     "output_type": "stream",
     "text": [
      "C61: ( [0 0 0 0 0 1*x101 0 0 0 0 1*x201 0 0 0 0 1*x301 0 0 0 0 1*x401 0 0 0 0 0 0 0 0 0 0 0 0 0 0 0 0 0 0 0 0 0 0 0 0 0 0 0 0 0]  E  1 )\n",
      "C62: ( [0 0 0 0 0 0 0 0 0 0 0 0 0 0 0 0 0 0 0 0 0 0 0 0 0 0 0 0 0 0 1*x102 0 0 0 0 1*x202 0 0 0 0 1*x302 0 0 0 0 1*x402 0 0 0 0]  E  1 )\n"
     ]
    }
   ],
   "source": [
    "# CONSTRAINTS_6: \n",
    "# # Route của Vehicle k phải luôn trở về Depot (n+1), tức là luôn tồn tại điểm i trên route của k sao cho nó đi đến n+1\n",
    "# # trong đó n+1 là Depot kết thúc\n",
    "contrains_6 = []\n",
    "_i = 0\n",
    "for veh in vehicles[0:num_vehicles]: \n",
    "    _i += 1\n",
    "    contrains_6.append(([(1 if (int(name[3]) == veh and int(name[2]) == 0 and int(name[1]) != 0) else 0) for name in my_names],\"E\", 1, \"C6\" + str(_i)))\n",
    "    \n",
    "display(contrains_6)\n"
   ]
  },
  {
   "cell_type": "code",
   "execution_count": 902,
   "metadata": {},
   "outputs": [
    {
     "name": "stdout",
     "output_type": "stream",
     "text": [
      "CX1: ( [1*x001 0 0 0 0 0 1*x111 0 0 0 0 0 1*x221 0 0 0 0 0 1*x331 0 0 0 0 0 1*x441 1*x002 0 0 0 0 0 1*x112 0 0 0 0 0 1*x222 0 0 0 0 0 1*x332 0 0 0 0 0 1*x442]  E  0 )\n"
     ]
    }
   ],
   "source": [
    "# CONSTRAINTS_X:\n",
    "contrains_x = []\n",
    "_i = 0\n",
    "\n",
    "_i += 1\n",
    "contrains_x.append(([(1 if int(name[1]) == int(name[2]) else 0) for name in my_names],\"E\", 0, \"CX\" + str(_i)))\n",
    "\n",
    "display(contrains_x)\n"
   ]
  },
  {
   "cell_type": "code",
   "execution_count": 903,
   "metadata": {},
   "outputs": [],
   "source": [
    "# # CONSTRAINT_Y\n",
    "# _i = 0\n",
    "# for \n",
    "# contrains_x.append(([(1 if int(name[1]) == int(name[2]) else 0) for name in my_names],\"E\", 0, \"CX\" + str(_i)))"
   ]
  },
  {
   "cell_type": "code",
   "execution_count": 904,
   "metadata": {},
   "outputs": [],
   "source": [
    "# Merge segment constraints\n",
    "constraints_group = []\n",
    "# constraints_group += contrains_2 \n",
    "# constraints_group += contrains_3 \n",
    "# constraints_group += contrains_4 \n",
    "# constraints_group += contrains_5 \n",
    "constraints_group += contrains_6\n",
    "constraints_group += contrains_x\n",
    "\n",
    "\n",
    "\n",
    "# Convert for cplex\n",
    "constraints_ = []\n",
    "constraint_senses = []\n",
    "rhs = []\n",
    "constraint_names = []\n",
    "for i in constraints_group:\n",
    "    constraints_.append([my_names, i[0]])\n",
    "    constraint_senses.append(i[1])\n",
    "    rhs.append(i[2])\n",
    "    constraint_names.append(i[3])\n",
    "    \n",
    "    \n",
    "# print(constraints_)\n",
    "# print(constraint_senses)\n",
    "# print(rhs)"
   ]
  },
  {
   "cell_type": "code",
   "execution_count": 905,
   "metadata": {},
   "outputs": [
    {
     "data": {
      "text/plain": [
       "range(0, 3)"
      ]
     },
     "execution_count": 905,
     "metadata": {},
     "output_type": "execute_result"
    }
   ],
   "source": [
    "# Create Cplex Problems\n",
    "myProblem = None\n",
    "\n",
    "try:\n",
    "    myProblem = cplex.Cplex()     \n",
    "except CplexError:\n",
    "    print (\"exc\")\n",
    "\n",
    "\n",
    "myProblem.variables.add(obj = my_obj,\n",
    "                      lb = lower_bounds,\n",
    "                      ub = upper_bounds,\n",
    "                      names = my_names)\n",
    "\n",
    "myProblem.objective.set_sense(myProblem.objective.sense.minimize)\n",
    "\n",
    "for i in range(0, num_names):\n",
    "    myProblem.variables.set_types(i,myProblem.variables.type.binary)\n",
    "    \n",
    "myProblem.linear_constraints.add(lin_expr = constraints_,\n",
    "                                 senses = constraint_senses,\n",
    "                                 rhs = rhs,\n",
    "                                 names = constraint_names)"
   ]
  },
  {
   "cell_type": "code",
   "execution_count": 906,
   "metadata": {},
   "outputs": [
    {
     "name": "stdout",
     "output_type": "stream",
     "text": [
      "Version identifier: 20.1.0.0 | 2020-11-11 | 9bedb6d68\n",
      "CPXPARAM_Read_DataCheck                          1\n",
      "Found incumbent of value 36.000000 after 0.00 sec. (0.00 ticks)\n",
      "Tried aggregator 1 time.\n",
      "MIP Presolve eliminated 3 rows and 50 columns.\n",
      "All rows and columns eliminated.\n",
      "Presolve time = 0.00 sec. (0.02 ticks)\n",
      "\n",
      "Root node processing (before b&c):\n",
      "  Real time             =    0.00 sec. (0.02 ticks)\n",
      "Parallel b&c, 8 threads:\n",
      "  Real time             =    0.00 sec. (0.00 ticks)\n",
      "  Sync time (average)   =    0.00 sec.\n",
      "  Wait time (average)   =    0.00 sec.\n",
      "                          ------------\n",
      "Total (root+branch&cut) =    0.00 sec. (0.02 ticks)\n",
      "Problem name         : \n",
      "Objective sense      : Minimize\n",
      "Variables            :      50  [Binary: 50]\n",
      "Objective nonzeros   :      40\n",
      "Linear constraints   :       3  [Equal: 3]\n",
      "  Nonzeros           :      18\n",
      "  RHS nonzeros       :       2\n",
      "\n",
      "Variables            : Min LB: 0.000000         Max UB: 1.000000       \n",
      "Objective nonzeros   : Min   : 2.000000         Max   : 32.00000       \n",
      "Linear constraints   :\n",
      "  Nonzeros           : Min   : 1.000000         Max   : 1.000000       \n",
      "  RHS nonzeros       : Min   : 1.000000         Max   : 1.000000       \n",
      "\n",
      "x101  -  1.0\n",
      "x102  -  1.0\n"
     ]
    }
   ],
   "source": [
    "# Find the solutions\n",
    "try:\n",
    "    myProblem.solve()\n",
    "    \n",
    "    print(myProblem.get_stats())\n",
    "    values=myProblem.solution.get_values()\n",
    "    names=myProblem.variables.get_names()\n",
    "    \n",
    "    for v, n in zip(values, names):\n",
    "        if v != 0:\n",
    "            print(n, \" - \",v)\n",
    "except cplex.exceptions.errors.CplexSolverError:\n",
    "    print(\"No solution\")"
   ]
  },
  {
   "cell_type": "code",
   "execution_count": null,
   "metadata": {},
   "outputs": [],
   "source": []
  },
  {
   "cell_type": "code",
   "execution_count": null,
   "metadata": {},
   "outputs": [],
   "source": []
  },
  {
   "cell_type": "code",
   "execution_count": null,
   "metadata": {},
   "outputs": [],
   "source": []
  },
  {
   "cell_type": "code",
   "execution_count": null,
   "metadata": {},
   "outputs": [],
   "source": []
  }
 ],
 "metadata": {
  "kernelspec": {
   "display_name": "Python 3",
   "language": "python",
   "name": "python3"
  },
  "language_info": {
   "codemirror_mode": {
    "name": "ipython",
    "version": 3
   },
   "file_extension": ".py",
   "mimetype": "text/x-python",
   "name": "python",
   "nbconvert_exporter": "python",
   "pygments_lexer": "ipython3",
   "version": "3.8.5"
  }
 },
 "nbformat": 4,
 "nbformat_minor": 4
}
