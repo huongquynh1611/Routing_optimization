{
 "cells": [
  {
   "cell_type": "code",
   "execution_count": 148,
   "metadata": {},
   "outputs": [],
   "source": [
    "import cplex\n",
    "from cplex.exceptions import CplexError\n",
    "import sys\n",
    "import pandas as pd\n",
    "import numpy as np\n",
    "import docplex"
   ]
  },
  {
   "cell_type": "code",
   "execution_count": 149,
   "metadata": {},
   "outputs": [],
   "source": [
    "def pprint(constraints: list, names: list):\n",
    "    for c in constraints:\n",
    "        _c = [((\"-\"if _i == -1 else \"\" if _i == 1 else (str(_i if isinstance(_i, int) else round(_i,1)))) + n) for _i, n in zip(c[0], names) if _i != 0]\n",
    "        print(c[3] + \": ([\" + \" \".join(_c) + \"]  \" + c[1] + \"  \" + str(c[2] if isinstance(c[2], int) else round(c[2],1)) + \")\") "
   ]
  },
  {
   "cell_type": "code",
   "execution_count": 150,
   "metadata": {},
   "outputs": [],
   "source": [
    "xls = pd.ExcelFile('logistic.xlsx')\n",
    "\n",
    "vehicles = [\"1\",\"2\",\"3\",\"4\",\"5\"]                        # V\n",
    "customers = [\"1\",\"2\",\"3\",\"4\",\"5\",\"6\",\"7\",\"8\",\"9\"]       # C\n",
    "\n",
    "num_vehicles = 2\n",
    "num_customers = 2\n",
    "locations = [\"O\"] + customers[:num_customers] + [\"X\"]   # C': gồm các customers và Depot suất phát + Depot kết thúc\n",
    "\n",
    "# quy ước: \n",
    "#    + (i,j) là cạnh (edge) thuộc tập E\n",
    "#    + i,j là 2 customer liền kề trên 1 route\n"
   ]
  },
  {
   "cell_type": "code",
   "execution_count": null,
   "metadata": {},
   "outputs": [],
   "source": []
  },
  {
   "cell_type": "code",
   "execution_count": 151,
   "metadata": {},
   "outputs": [
    {
     "name": "stdout",
     "output_type": "stream",
     "text": [
      "18\n",
      "Names  ['xO11', 'xO21', 'xOX1', 'x111', 'x121', 'x1X1', 'x211', 'x221', 'x2X1', 'xO12', 'xO22', 'xOX2', 'x112', 'x122', 'x1X2', 'x212', 'x222', 'x2X2']\n"
     ]
    }
   ],
   "source": [
    "my_names = [\"x\"+str(i)+str(j) + str(k) for k in vehicles[:num_vehicles] for i in ([\"O\"] + customers[:num_customers]) for j in (customers[:num_customers] + [\"X\"])]\n",
    "num_names = len(my_names)\n",
    "print(num_names)\n",
    "print(\"Names \", my_names)\n",
    "def display(constraints):\n",
    "    pprint(constraints, my_names)"
   ]
  },
  {
   "cell_type": "code",
   "execution_count": 152,
   "metadata": {},
   "outputs": [
    {
     "name": "stdout",
     "output_type": "stream",
     "text": [
      "Object  [18, 30, 0, 0, 23, 18, 23, 0, 30, 18, 30, 0, 0, 23, 18, 23, 0, 30]\n"
     ]
    }
   ],
   "source": [
    "cost_matrix = pd.read_excel(xls, 'Cost Matrix')\n",
    "__v = lambda n: 0 if n == \"O\" or n == \"X\" else int(n)\n",
    "my_obj = [int(cost_matrix.iat[__v(n[1]),__v(n[2]) + 1]) for n in my_names]\n",
    "\n",
    "print(\"Object \", my_obj)"
   ]
  },
  {
   "cell_type": "code",
   "execution_count": 153,
   "metadata": {},
   "outputs": [
    {
     "data": {
      "text/plain": [
       "[65, 70]"
      ]
     },
     "execution_count": 153,
     "metadata": {},
     "output_type": "execute_result"
    }
   ],
   "source": [
    "capacity_matrix   = pd.read_excel(xls, 'Capicity')\n",
    "vehicles_capacity = [capacity_matrix.iat[i,1] for i in range(0, num_vehicles)]\n",
    "vehicles_capacity"
   ]
  },
  {
   "cell_type": "code",
   "execution_count": 154,
   "metadata": {},
   "outputs": [
    {
     "data": {
      "text/plain": [
       "{'1': 32, '2': 45}"
      ]
     },
     "execution_count": 154,
     "metadata": {},
     "output_type": "execute_result"
    }
   ],
   "source": [
    "demand_matrix = pd.read_excel(xls, 'Demand Matrix')\n",
    "demand = {customers[i]: demand_matrix.iat[i,1] for i in range(0, num_customers)}\n",
    "demand"
   ]
  },
  {
   "cell_type": "code",
   "execution_count": 155,
   "metadata": {},
   "outputs": [
    {
     "name": "stdout",
     "output_type": "stream",
     "text": [
      "Lb  [0, 0, 0, 0, 0, 0, 0, 0, 0, 0, 0, 0, 0, 0, 0, 0, 0, 0]\n",
      "Rb  [1, 1, 1, 1, 1, 1, 1, 1, 1, 1, 1, 1, 1, 1, 1, 1, 1, 1]\n"
     ]
    }
   ],
   "source": [
    "lower_bounds = [0]*num_names\n",
    "upper_bounds = [1]*num_names\n",
    "\n",
    "print(\"Lb \", lower_bounds)\n",
    "print(\"Rb \", upper_bounds)"
   ]
  },
  {
   "cell_type": "code",
   "execution_count": 156,
   "metadata": {},
   "outputs": [
    {
     "name": "stdout",
     "output_type": "stream",
     "text": [
      "C21: ([x121 x1X1 x122 x1X2]  E  1)\n",
      "C22: ([x211 x2X1 x212 x2X2]  E  1)\n"
     ]
    }
   ],
   "source": [
    "# CONSTRAINTS_2: \n",
    "# # Một cạnh bất kỳ (i->j) chỉ tổn tại trên duy nhất 1 Vehicle. Nhưng i CHỈ LÀ customers, j là locations\n",
    "constraint_2 = []\n",
    "_i = 0\n",
    "for i in customers[:num_customers]:\n",
    "    con_ = [(1 if name[1] != name[2]  and name[1] == i else 0) for name in my_names]\n",
    "    if len([c for c in con_  if c != 0]) > 0:\n",
    "        _i += 1\n",
    "        constraint_2.append((con_,\"E\", 1, \"C2\" + str(_i)))\n",
    "    \n",
    "display(constraint_2)\n"
   ]
  },
  {
   "cell_type": "code",
   "execution_count": 157,
   "metadata": {},
   "outputs": [
    {
     "name": "stdout",
     "output_type": "stream",
     "text": [
      "C31: ([65.0xO11 65.0xO21 65.0xOX1 -32x121 -32x1X1 -45x211 -45x2X1]  G  0)\n",
      "C32: ([70.0xO12 70.0xO22 70.0xOX2 -32x122 -32x1X2 -45x212 -45x2X2]  G  0)\n"
     ]
    }
   ],
   "source": [
    "# CONSTRAINTS_3: \n",
    "# # Lượng hàng chở đển Customer của 1 Vehicle phải nhỏ hơn bằng Capacity. Nhưng i CHỈ LÀ customers, j là locations\n",
    "constraint_3 = []\n",
    "val = lambda v, c, n1, n2, n3: 0 if n3 != v else -1*int(demand[n1]) if n1 != \"O\" and n1 != n2 else c if n1 == \"O\" and n2 != \"O\" else 0\n",
    "# val = lambda v, c, n1, n2, n3: 0 if n3 != v else int(demand[n1]) if n1 != \"O\" and n1 != n2 else 0\n",
    "_i = 0\n",
    "for veh, cap in zip(vehicles[0:num_vehicles],vehicles_capacity[0:num_vehicles]): \n",
    "    _i += 1\n",
    "    constraint_3.append(([val(veh, float(cap), name[1], name[2], name[3]) for name in my_names],\"G\", 0, \"C3\" + str(_i)))\n",
    "\n",
    "\n",
    "display(constraint_3)"
   ]
  },
  {
   "cell_type": "code",
   "execution_count": 158,
   "metadata": {},
   "outputs": [
    {
     "name": "stdout",
     "output_type": "stream",
     "text": [
      "C41: ([xO11 xO21 xOX1]  E  1)\n",
      "C42: ([xO12 xO22 xOX2]  E  1)\n"
     ]
    }
   ],
   "source": [
    "# CONSTRAINTS_4: \n",
    "# # Với mỗi Vehicle, khi suất phát từ Depot, nó chỉ có thể đến duy nhất 1 Customer\n",
    "constraint_4 = []\n",
    "_i = 0\n",
    "for k in vehicles[0:num_vehicles]:\n",
    "    _i += 1\n",
    "    constraint_4.append(([(1 if (name[1] == \"O\" and name[3] == k) else 0) for name in my_names],\"E\", 1, \"C4\" + str(_i)))\n",
    "    \n",
    "display(constraint_4)"
   ]
  },
  {
   "cell_type": "code",
   "execution_count": 159,
   "metadata": {},
   "outputs": [
    {
     "name": "stdout",
     "output_type": "stream",
     "text": [
      "C51: ([-xO11 x121 x1X1 -x211]  E  0)\n",
      "C52: ([-xO21 -x121 x211 x2X1]  E  0)\n",
      "C53: ([-xO12 x122 x1X2 -x212]  E  0)\n",
      "C54: ([-xO22 -x122 x212 x2X2]  E  0)\n"
     ]
    }
   ],
   "source": [
    "# CONSTRAINTS_5: \n",
    "# # Trên route của Vehicle k có cạnh (i->j) : tổng tất cả cạnh đầu 'ra' của i BẰNG tổng tất cả cạnh đầu 'vào' của j\n",
    "constraint_5 = []\n",
    "_i = 0\n",
    "for k in vehicles[0:num_vehicles]:\n",
    "    for p in customers[:num_customers]: # i\n",
    "        _i += 1\n",
    "        foo = lambda k,p,n: 0 if n[3] != k or n[2] == n[1] else 1 if n[1] == p else -1 if n[2] == p else 0                \n",
    "        constraint_5.append(([foo(k, p, name) for name in my_names],\"E\", 0, \"C5\" + str(_i)))\n",
    "\n",
    "display(constraint_5) "
   ]
  },
  {
   "cell_type": "code",
   "execution_count": 160,
   "metadata": {},
   "outputs": [
    {
     "name": "stdout",
     "output_type": "stream",
     "text": [
      "C61: ([xOX1 x1X1 x2X1]  E  1)\n",
      "C62: ([xOX2 x1X2 x2X2]  E  1)\n"
     ]
    }
   ],
   "source": [
    "# CONSTRAINTS_6: \n",
    "# # Route của Vehicle k phải luôn trở về Depot (n+1), tức là luôn tồn tại điểm i trên route của k sao cho nó đi đến n+1\n",
    "# # trong đó n+1 là Depot kết thúc\n",
    "constraint_6 = []\n",
    "_i = 0\n",
    "for veh in vehicles[0:num_vehicles]: \n",
    "    _i += 1\n",
    "    constraint_6.append(([(1 if (name[3] == veh and name[2] == \"X\") else 0) for name in my_names],\"E\", 1, \"C6\" + str(_i)))\n",
    "    \n",
    "display(constraint_6)\n"
   ]
  },
  {
   "cell_type": "code",
   "execution_count": 161,
   "metadata": {},
   "outputs": [
    {
     "name": "stdout",
     "output_type": "stream",
     "text": [
      "CX1: ([x111 x221 x112 x222]  E  0)\n"
     ]
    }
   ],
   "source": [
    "# CONSTRAINTS_X: vehicles ko đc đứng tại chỗ\n",
    "constraint_x = []\n",
    "_i = 0\n",
    "\n",
    "_i += 1\n",
    "constraint_x.append(([(1 if name[1] == name[2] else 0) for name in my_names],\"E\", 0, \"CX\" + str(_i)))\n",
    "\n",
    "display(constraint_x)\n"
   ]
  },
  {
   "cell_type": "code",
   "execution_count": 162,
   "metadata": {},
   "outputs": [
    {
     "name": "stdout",
     "output_type": "stream",
     "text": [
      "CX1: ([x121 x211 x122 x212]  L  1)\n",
      "CX2: ([x121 x211 x122 x212]  L  1)\n"
     ]
    }
   ],
   "source": [
    "# CONSTRAINTS_Y: vehicles ko đc quay ngược lại\n",
    "constraint_y = []\n",
    "_i = 0\n",
    "\n",
    "for i in customers[:num_customers]:\n",
    "    for j in customers[:num_customers]:\n",
    "        if i != j:\n",
    "            _i += 1\n",
    "            constraint_y.append(([(1 if ((name[1] == i and j == name[2]) or (name[1] == j and i == name[2])) else 0) for name in my_names],\"L\", 1, \"CX\" + str(_i)))\n",
    "\n",
    "display(constraint_y)\n"
   ]
  },
  {
   "cell_type": "code",
   "execution_count": 163,
   "metadata": {},
   "outputs": [],
   "source": [
    "def foo(n : int, a : list, o : list):\n",
    "    temp = {}\n",
    "    tempa = []\n",
    "    for ai in a:\n",
    "        _i =  np.prod([ord(c) + 99 for c in ai])\n",
    "        if _i not in temp:            \n",
    "            temp[_i] = ai\n",
    "            tempa.append(ai)\n",
    "            \n",
    "    a = tempa\n",
    "    arr = []\n",
    "    if n > 1:\n",
    "        for ai in a:\n",
    "            for oi in o:\n",
    "                if oi not in ai:\n",
    "                    arr.append(ai + oi)\n",
    "        return foo(n-1, arr, o)\n",
    "    else:\n",
    "        return a\n",
    "\n",
    "def get_path(n: int, a: list) -> list:\n",
    "    return foo(n,a,a)\n"
   ]
  },
  {
   "cell_type": "code",
   "execution_count": 164,
   "metadata": {},
   "outputs": [],
   "source": [
    "# CONSTRAINT_Z \n",
    "constraint_z = []\n",
    "_i = 0\n",
    "\n",
    "for r in range(3,num_customers + 1):\n",
    "    for p in get_path(r, customers[:num_customers]):\n",
    "#         p = \"134\"\n",
    "#         r = 3\n",
    "        _i += 1\n",
    "        constraint_z.append(([1 if name[1] in p and name[2] in p and name[1] != name[2] else 0 for name in my_names], \"L\", r-1, \"CZ\" + str(_i)))\n",
    "\n",
    "display(constraint_z)\n"
   ]
  },
  {
   "cell_type": "code",
   "execution_count": 165,
   "metadata": {},
   "outputs": [
    {
     "name": "stdout",
     "output_type": "stream",
     "text": [
      "['sO1', 'sO2', 's11', 's12', 's21', 's22', 'sX1', 'sX2', 'eO1', 'eO2', 'e11', 'e12', 'e21', 'e22', 'eX1', 'eX2']\n"
     ]
    }
   ],
   "source": [
    "# TIME\n",
    "time_names = [\"s\"+str(i) + str(k) for i in ([\"O\"] + customers[:num_customers] + [\"X\"]) for k in vehicles[:num_vehicles]]\n",
    "time_names += [\"e\"+str(i) + str(k) for i in ([\"O\"] + customers[:num_customers] + [\"X\"]) for k in vehicles[:num_vehicles]]\n",
    "\n",
    "full_names = my_names + time_names\n",
    "print(time_names)\n",
    "def displayt(constraints):\n",
    "    pprint(constraints, time_names)\n",
    "\n",
    "def displayful(constraints):\n",
    "    pprint(constraints, full_names)"
   ]
  },
  {
   "cell_type": "code",
   "execution_count": 166,
   "metadata": {},
   "outputs": [
    {
     "name": "stdout",
     "output_type": "stream",
     "text": [
      "CT1: ([sO1 sO2]  E  0)\n"
     ]
    }
   ],
   "source": [
    "# constraints time 1 s0k = 0 ủa cho thành tổng tất cả là 0 dc ko \n",
    "constraints_time_1 = []\n",
    "constraints_time_1.append(([1 if name[0] == \"s\" and name[1] == \"O\" else 0 for name in full_names], \"E\", 0 , \"CT1\" ))\n",
    "    \n",
    "displayful(constraints_time_1)\n"
   ]
  },
  {
   "cell_type": "code",
   "execution_count": 167,
   "metadata": {},
   "outputs": [
    {
     "name": "stdout",
     "output_type": "stream",
     "text": [
      "0     0.0\n",
      "1     6.0\n",
      "2     0.0\n",
      "3     1.0\n",
      "4     1.0\n",
      "5     1.0\n",
      "6     1.0\n",
      "7    15.0\n",
      "8     4.5\n",
      "9     6.0\n",
      "Name: Time Start, dtype: float64\n",
      "{'O': 0.0, '1': 6.0, '2': 0.0}\n",
      "{'O': 5.0, '1': 13.0, '2': 15.0}\n"
     ]
    }
   ],
   "source": [
    "# Time window \n",
    "start_time = pd.read_excel(xls, 'Time Window')['Time Start']\n",
    "print(start_time)\n",
    "start_time= {loc: float(start_time.iat[i]) for i, loc in zip(range(0,num_customers + 1), [\"O\"] + customers[:num_customers])}\n",
    "\n",
    "end_time = pd.read_excel(xls, 'Time Window')['Time End']\n",
    "end_time = {loc: float(end_time.iat[i]) for i, loc in zip(range(0,num_customers + 1), [\"O\"] + customers[:num_customers])} \n",
    "\n",
    "print(start_time)\n",
    "print(end_time)\n"
   ]
  },
  {
   "cell_type": "code",
   "execution_count": 168,
   "metadata": {},
   "outputs": [
    {
     "name": "stdout",
     "output_type": "stream",
     "text": [
      "[[0.  3.  4.5]\n",
      " [3.  0.  2.7]\n",
      " [4.5 2.7 0. ]\n",
      " [2.  3.2 2.1]]\n"
     ]
    },
    {
     "data": {
      "text/plain": [
       "{'OO': 0.0,\n",
       " 'O1': 3.0,\n",
       " 'O2': 4.5,\n",
       " '1O': 3.0,\n",
       " '11': 0.0,\n",
       " '12': 2.7,\n",
       " '2O': 4.5,\n",
       " '21': 2.7,\n",
       " '22': 0.0}"
      ]
     },
     "execution_count": 168,
     "metadata": {},
     "output_type": "execute_result"
    }
   ],
   "source": [
    "# Time matrix\n",
    "time_matrix = pd.read_excel(xls, 'Time Matrix')\n",
    "\n",
    "timesdf = time_matrix.iloc[0:num_customers + 2,1:num_customers + 2].values\n",
    "\n",
    "times = {}\n",
    "for _i, i in enumerate([\"O\"] + customers[:num_customers]):\n",
    "    for _j, j in enumerate([\"O\"] + customers[:num_customers]):\n",
    "        key = i+j\n",
    "        val = timesdf[_i][_j]\n",
    "        if not key in times:\n",
    "            times[key]=val\n",
    "print(timesdf)    \n",
    "times"
   ]
  },
  {
   "cell_type": "code",
   "execution_count": 169,
   "metadata": {},
   "outputs": [
    {
     "name": "stdout",
     "output_type": "stream",
     "text": [
      "CT21: ([-sO1]  L  0)\n",
      "CT22: ([-sO2]  L  0)\n",
      "CT23: ([6.0x111 6.0x121 6.0x1X1 -s11]  L  0)\n",
      "CT24: ([6.0x112 6.0x122 6.0x1X2 -s12]  L  0)\n",
      "CT25: ([-s21]  L  0)\n",
      "CT26: ([-s22]  L  0)\n"
     ]
    }
   ],
   "source": [
    "# constraints time 2 for j in() xijk*e_i <= s_ik  (xi1k_+xi2k+...+xink)*l_i <= sik \n",
    "full_names = my_names + time_names\n",
    "constraints_time_2 = []\n",
    "_i=0\n",
    "for i in ([\"O\"] + customers[:num_customers]):\n",
    "    for k in vehicles[:num_vehicles]:\n",
    "        _i+=1\n",
    "        constraints_time_2.append(([(-1 if name[1] == i and name[2] == k else 0) if name[0] == \"s\" \\\n",
    "                                    else start_time[i] if (name[0] == \"x\" and name[1] == i and name[3] == k) else 0 for name in full_names], \"L\", 0 , \"CT2\" +str(_i)))\n",
    "displayful(constraints_time_2)"
   ]
  },
  {
   "cell_type": "code",
   "execution_count": 170,
   "metadata": {},
   "outputs": [
    {
     "name": "stdout",
     "output_type": "stream",
     "text": [
      "CT31: ([5.0xO11 5.0xO21 5.0xOX1 -sO1]  G  0)\n",
      "CT32: ([5.0xO12 5.0xO22 5.0xOX2 -sO2]  G  0)\n",
      "CT33: ([13.0x111 13.0x121 13.0x1X1 -s11]  G  0)\n",
      "CT34: ([13.0x112 13.0x122 13.0x1X2 -s12]  G  0)\n",
      "CT35: ([15.0x211 15.0x221 15.0x2X1 -s21]  G  0)\n",
      "CT36: ([15.0x212 15.0x222 15.0x2X2 -s22]  G  0)\n"
     ]
    }
   ],
   "source": [
    "# constraints_time_3 s_ik <= l_i*sum(xijk)\n",
    "constraints_time_3 = []\n",
    "_i=0\n",
    "\n",
    "for i in ([\"O\"] + customers[:num_customers]):\n",
    "    for k in vehicles[:num_vehicles]:\n",
    "        _i+=1\n",
    "        constraints_time_3.append(([(-1 if name[1] == i and name[2] == k else 0) if name[0] == \"s\" \\\n",
    "                                    else end_time[i] if (name[0] == \"x\" and name[1] == i and name[3] == k) else 0 for name in full_names], \"G\", 0 , \"CT3\" +str(_i)))\n",
    "displayful(constraints_time_3)\n"
   ]
  },
  {
   "cell_type": "code",
   "execution_count": 176,
   "metadata": {},
   "outputs": [
    {
     "name": "stdout",
     "output_type": "stream",
     "text": [
      "CT31: ([8.0xO11 -s11 eO1]  L  5.0)\n",
      "CT32: ([9.5xO21 -s21 eO1]  L  5.0)\n",
      "CT33: ([9.7x121 -s21 e11]  L  7.0)\n",
      "CT34: ([17.7x211 -s11 e21]  L  15.0)\n",
      "CT35: ([8.0xO12 -s12 eO2]  L  5.0)\n",
      "CT36: ([9.5xO22 -s22 eO2]  L  5.0)\n",
      "CT37: ([9.7x122 -s22 e12]  L  7.0)\n",
      "CT38: ([17.7x212 -s12 e22]  L  15.0)\n"
     ]
    }
   ],
   "source": [
    "# constraints time 4\n",
    "constraints_time_4 = []\n",
    "_i=0\n",
    "    \n",
    "for k in vehicles[:num_vehicles]:\n",
    "    for i in [\"O\"] + customers[:num_customers]:\n",
    "        for j in customers[:num_customers] + [\"X\"]:\n",
    "            if i==j or j == \"X\":\n",
    "                continue            \n",
    "            _m = max(end_time[i] + times[i+(\"O\" if j == \"X\" else j)] - start_time[i], 0)\n",
    "            \n",
    "            obj = [1 if name[1] == i and name[0] == \"e\" and name[2] == k else \n",
    "                    -1 if name[1] == j and name[0] == \"s\" and name[2] == k else\n",
    "                   _m if name[0] == \"x\" and name[1] == i and name[2] == j and name[3] == k else 0\n",
    "                   for name in full_names if i != j]\n",
    "        \n",
    "            rhs = _m - times[i+(\"O\" if j == \"X\" else j)]\n",
    "            \n",
    "            if len([o for o in obj if o != 0]) > 0:\n",
    "                _i+=1\n",
    "                constraints_time_4.append((obj, \"L\", rhs , \"CT3\" +str(_i)))\n",
    "                \n",
    "                \n",
    "displayful(constraints_time_4)"
   ]
  },
  {
   "cell_type": "code",
   "execution_count": 172,
   "metadata": {},
   "outputs": [
    {
     "name": "stdout",
     "output_type": "stream",
     "text": [
      "CT51: ([-sO1 eO1]  G  0)\n",
      "CT52: ([-sO2 eO2]  G  0)\n",
      "CT53: ([-s11 e11]  G  0)\n",
      "CT54: ([-s12 e12]  G  0)\n",
      "CT55: ([-s21 e21]  G  0)\n",
      "CT56: ([-s22 e22]  G  0)\n"
     ]
    }
   ],
   "source": [
    "# CONSTRAINTS TIME 5: eik - sik > 0\n",
    "constraints_time_5 = []\n",
    "_i=0\n",
    "\n",
    "for i in ([\"O\"] + customers[:num_customers]):\n",
    "    for k in vehicles[:num_vehicles]:\n",
    "        _i+=1\n",
    "        constraints_time_5.append(([-1 if name[1] == i and name[2] == k and name[0] == \"s\" else \n",
    "                                    1 if (name[0] == \"e\" and name[1] == i and name[2] == k) else 0\n",
    "                                    for name in full_names], \"G\", 0 , \"CT5\" +str(_i)))\n",
    "displayful(constraints_time_5)\n"
   ]
  },
  {
   "cell_type": "code",
   "execution_count": 173,
   "metadata": {},
   "outputs": [],
   "source": [
    "# Merge segment constraints\n",
    "constraints_group = []\n",
    "constraints_group += constraint_2 \n",
    "constraints_group += constraint_3 \n",
    "constraints_group += constraint_4 \n",
    "constraints_group += constraint_5 \n",
    "constraints_group += constraint_6\n",
    "constraints_group += constraint_x\n",
    "constraints_group += constraint_y\n",
    "constraints_group += constraint_z\n",
    "# constraints_group += constraints_time_1\n",
    "constraints_group += constraints_time_2\n",
    "constraints_group += constraints_time_3\n",
    "constraints_group += constraints_time_4\n",
    "constraints_group += constraints_time_5\n",
    "\n",
    "\n",
    "# Convert for cplex\n",
    "constraints_ = []\n",
    "constraint_senses = []\n",
    "rhs = []\n",
    "constraint_names = []\n",
    "for i in constraints_group:\n",
    "    constraints_.append([full_names if i[3][:2] == \"CT\" else my_names, i[0]])\n",
    "    constraint_senses.append(i[1])\n",
    "    rhs.append(i[2])\n",
    "    constraint_names.append(i[3])\n",
    "    \n",
    "# print(constraints_)\n",
    "# print(constraint_senses)\n",
    "# print(rhs)"
   ]
  },
  {
   "cell_type": "code",
   "execution_count": 174,
   "metadata": {
    "scrolled": true
   },
   "outputs": [
    {
     "name": "stdout",
     "output_type": "stream",
     "text": [
      "['xO11', 'xO21', 'xOX1', 'x111', 'x121', 'x1X1', 'x211', 'x221', 'x2X1', 'xO12', 'xO22', 'xOX2', 'x112', 'x122', 'x1X2', 'x212', 'x222', 'x2X2', 'sO1', 'sO2', 's11', 's12', 's21', 's22', 'sX1', 'sX2', 'eO1', 'eO2', 'e11', 'e12', 'e21', 'e22', 'eX1', 'eX2']\n",
      "['B', 'B', 'B', 'B', 'B', 'B', 'B', 'B', 'B', 'B', 'B', 'B', 'B', 'B', 'B', 'B', 'B', 'B', 'C', 'C', 'C', 'C', 'C', 'C', 'C', 'C', 'C', 'C', 'C', 'C', 'C', 'C', 'C', 'C']\n",
      "[1.0, 1.0, 1.0, 1.0, 1.0, 1.0, 1.0, 1.0, 1.0, 1.0, 1.0, 1.0, 1.0, 1.0, 1.0, 1.0, 1.0, 1.0, 24.0, 24.0, 24.0, 24.0, 24.0, 24.0, 24.0, 24.0, 24.0, 24.0, 24.0, 24.0, 24.0, 24.0, 24.0, 24.0]\n",
      "[0.0, 0.0, 0.0, 0.0, 0.0, 0.0, 0.0, 0.0, 0.0, 0.0, 0.0, 0.0, 0.0, 0.0, 0.0, 0.0, 0.0, 0.0, -24.0, -24.0, -24.0, -24.0, -24.0, -24.0, -24.0, -24.0, -24.0, -24.0, -24.0, -24.0, -24.0, -24.0, -24.0, -24.0]\n"
     ]
    }
   ],
   "source": [
    "# Create Cplex Problems\n",
    "\n",
    "myProblem = None\n",
    "\n",
    "try:\n",
    "    myProblem = cplex.Cplex()     \n",
    "except CplexError:\n",
    "    print (\"exc\")\n",
    "# print(len(my_obj), len(my_names))\n",
    "myProblem.variables.add(obj = my_obj,\n",
    "                      lb = lower_bounds,\n",
    "                      ub = upper_bounds,\n",
    "                      names = my_names)\n",
    "\n",
    "myProblem.variables.add(names= time_names, \n",
    "                        types = [\"C\"]*len(time_names),\n",
    "                        ub = [24]*len(time_names),\n",
    "                        lb = [-24]*len(time_names)) \n",
    "\n",
    "\n",
    "myProblem.objective.set_sense(myProblem.objective.sense.minimize)\n",
    "\n",
    "for i in range(0, num_names):\n",
    "    myProblem.variables.set_types(i,myProblem.variables.type.binary)\n",
    "\n",
    "myProblem.linear_constraints.add(lin_expr = constraints_,\n",
    "                                 senses = constraint_senses,\n",
    "                                 rhs = rhs,\n",
    "                                 names = constraint_names)\n",
    "\n",
    "# ------------------------------------------------------------------------------------\n",
    "print(myProblem.variables.get_names())\n",
    "print(myProblem.variables.get_types())\n",
    "print(myProblem.variables.get_upper_bounds())\n",
    "print(myProblem.variables.get_lower_bounds())\n"
   ]
  },
  {
   "cell_type": "code",
   "execution_count": 175,
   "metadata": {
    "scrolled": true
   },
   "outputs": [
    {
     "name": "stdout",
     "output_type": "stream",
     "text": [
      "Version identifier: 20.1.0.0 | 2020-11-11 | 9bedb6d68\n",
      "CPXPARAM_Read_DataCheck                          1\n",
      "Tried aggregator 5 times.\n",
      "MIP Presolve eliminated 24 rows and 17 columns.\n",
      "MIP Presolve modified 55 coefficients.\n",
      "Aggregator did 17 substitutions.\n",
      "All rows and columns eliminated.\n",
      "Presolve time = 0.00 sec. (0.21 ticks)\n",
      "\n",
      "Root node processing (before b&c):\n",
      "  Real time             =    0.00 sec. (0.22 ticks)\n",
      "Parallel b&c, 8 threads:\n",
      "  Real time             =    0.00 sec. (0.00 ticks)\n",
      "  Sync time (average)   =    0.00 sec.\n",
      "  Wait time (average)   =    0.00 sec.\n",
      "                          ------------\n",
      "Total (root+branch&cut) =    0.00 sec. (0.22 ticks)\n",
      "Problem name         : \n",
      "Objective sense      : Minimize\n",
      "Variables            :      34  [Box: 16,  Binary: 18]\n",
      "Objective nonzeros   :      12\n",
      "Linear constraints   :      41  [Less: 16,  Greater: 14,  Equal: 11]\n",
      "  Nonzeros           :     134\n",
      "  RHS nonzeros       :      16\n",
      "\n",
      "Variables            : Min LB: -24.00000        Max UB: 24.00000       \n",
      "Objective nonzeros   : Min   : 18.00000         Max   : 30.00000       \n",
      "Linear constraints   :\n",
      "  Nonzeros           : Min   : 1.000000         Max   : 70.00000       \n",
      "  RHS nonzeros       : Min   : 1.000000         Max   : 15.00000       \n",
      "\n",
      "------------------------------\n",
      "xO11  -  1.0\n",
      "x1X1  -  1.0\n",
      "xO22  -  1.0\n",
      "x2X2  -  1.0\n",
      "s11  -  7.0\n",
      "s22  -  15.0\n",
      "eO1  -  0.0\n",
      "eO2  -  0.0\n",
      "e11  -  7.0\n",
      "e22  -  15.0\n"
     ]
    }
   ],
   "source": [
    "# Find the solutions\n",
    "try:\n",
    "    myProblem.solve()\n",
    "    \n",
    "    print(myProblem.get_stats())\n",
    "    values=myProblem.solution.get_values()\n",
    "    names=myProblem.variables.get_names()\n",
    "    \n",
    "    print(\"-\"*30)\n",
    "    for v, n in zip(values, names):\n",
    "        if v > 0:\n",
    "            print(n, \" - \",v if isinstance(v, int) else round(v,1))\n",
    "except cplex.exceptions.errors.CplexSolverError:\n",
    "    print(\"-\"*30,\"\\nNo solution\")\n",
    "    \n"
   ]
  },
  {
   "cell_type": "code",
   "execution_count": null,
   "metadata": {},
   "outputs": [],
   "source": []
  },
  {
   "cell_type": "code",
   "execution_count": null,
   "metadata": {},
   "outputs": [],
   "source": []
  },
  {
   "cell_type": "code",
   "execution_count": null,
   "metadata": {},
   "outputs": [],
   "source": []
  }
 ],
 "metadata": {
  "kernelspec": {
   "display_name": "Python 3",
   "language": "python",
   "name": "python3"
  },
  "language_info": {
   "codemirror_mode": {
    "name": "ipython",
    "version": 3
   },
   "file_extension": ".py",
   "mimetype": "text/x-python",
   "name": "python",
   "nbconvert_exporter": "python",
   "pygments_lexer": "ipython3",
   "version": "3.8.5"
  }
 },
 "nbformat": 4,
 "nbformat_minor": 4
}
